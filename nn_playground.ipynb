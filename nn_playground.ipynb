{
  "nbformat": 4,
  "nbformat_minor": 0,
  "metadata": {
    "colab": {
      "name": "nn_playground.ipynb",
      "provenance": [],
      "collapsed_sections": [],
      "include_colab_link": true
    },
    "kernelspec": {
      "name": "python3",
      "display_name": "Python 3"
    },
    "accelerator": "TPU"
  },
  "cells": [
    {
      "cell_type": "markdown",
      "metadata": {
        "id": "view-in-github",
        "colab_type": "text"
      },
      "source": [
        "<a href=\"https://colab.research.google.com/github/EternalSorrrow/bak/blob/master/nn_playground.ipynb\" target=\"_parent\"><img src=\"https://colab.research.google.com/assets/colab-badge.svg\" alt=\"Open In Colab\"/></a>"
      ]
    },
    {
      "cell_type": "markdown",
      "metadata": {
        "id": "uhHrufioZp3M",
        "colab_type": "text"
      },
      "source": [
        " MNIST CNN - Simple CNN"
      ]
    },
    {
      "cell_type": "code",
      "metadata": {
        "id": "T4BoK5KMZr7g",
        "colab_type": "code",
        "cellView": "form",
        "colab": {}
      },
      "source": [
        "#@title\n",
        "import keras\n",
        "from keras.datasets import mnist\n",
        "import matplotlib.pyplot as plt\n",
        "\n",
        "data = mnist.load_data()"
      ],
      "execution_count": 0,
      "outputs": []
    },
    {
      "cell_type": "code",
      "metadata": {
        "id": "ZCgikYxuZx6j",
        "colab_type": "code",
        "cellView": "form",
        "colab": {}
      },
      "source": [
        "#@title\n",
        "(x_train, y_train), (x_test, y_test) = data\n",
        "print(x_train.shape, y_train.shape, x_test.shape, y_test.shape)"
      ],
      "execution_count": 0,
      "outputs": []
    },
    {
      "cell_type": "code",
      "metadata": {
        "id": "33_AnbicZ4Lh",
        "colab_type": "code",
        "cellView": "form",
        "colab": {}
      },
      "source": [
        "#@title\n",
        "plt.figure()\n",
        "plt.imshow(x_train[0], cmap = plt.cm.gray)"
      ],
      "execution_count": 0,
      "outputs": []
    },
    {
      "cell_type": "code",
      "metadata": {
        "id": "q7bX_h3Hackz",
        "colab_type": "code",
        "cellView": "form",
        "colab": {}
      },
      "source": [
        "#@title\n",
        "x_train, x_test = x_train / 255, x_test / 255 # Normalize data"
      ],
      "execution_count": 0,
      "outputs": []
    },
    {
      "cell_type": "code",
      "metadata": {
        "id": "7Xxegn8hdp5F",
        "colab_type": "code",
        "cellView": "both",
        "colab": {}
      },
      "source": [
        "#@title\n",
        "x_train = x_train.reshape((-1, 28, 28, 1)) # Reshape data since the Keras expects an array of 3d (not 2d) tensors on input\n",
        "x_test = x_test.reshape((-1, 28, 28, 1))\n",
        "\n",
        "print(x_train.shape, y_train.shape, x_test.shape, y_test.shape)"
      ],
      "execution_count": 0,
      "outputs": []
    },
    {
      "cell_type": "code",
      "metadata": {
        "id": "cGM_DdJQBRwC",
        "colab_type": "code",
        "cellView": "both",
        "colab": {}
      },
      "source": [
        "#@title\n",
        "import numpy as np\n",
        "np.unique(y_train)"
      ],
      "execution_count": 0,
      "outputs": []
    },
    {
      "cell_type": "code",
      "metadata": {
        "id": "hthSqbtSdBDl",
        "colab_type": "code",
        "cellView": "both",
        "colab": {}
      },
      "source": [
        "#@title\n",
        "cat_num = 10\n",
        "\n",
        "y_train = keras.utils.to_categorical(y_train, cat_num)\n",
        "y_test = keras.utils.to_categorical(y_test, cat_num) # Encode integer-expressed classes as a binary vectors\n",
        "\n",
        "print(y_train.shape, y_test.shape)"
      ],
      "execution_count": 0,
      "outputs": []
    },
    {
      "cell_type": "code",
      "metadata": {
        "id": "aA9EKJGTDgdu",
        "colab_type": "code",
        "cellView": "both",
        "colab": {}
      },
      "source": [
        "#@title\n",
        "print(y_train[0])"
      ],
      "execution_count": 0,
      "outputs": []
    },
    {
      "cell_type": "code",
      "metadata": {
        "id": "vOmF7SwuarcR",
        "colab_type": "code",
        "cellView": "form",
        "colab": {}
      },
      "source": [
        "#@title\n",
        "from keras.models import Sequential\n",
        "from keras.layers import Dense, Flatten\n",
        "from keras.layers import Conv2D, MaxPooling2D\n",
        "\n",
        "model = Sequential()\n",
        "\n",
        "model.add(Conv2D(32, (3,3), activation='relu', input_shape=(28,28, 1)))\n",
        "model.add(MaxPooling2D(pool_size=(2,2)))\n",
        "\n",
        "model.add(Dropout(0.25)) # !!! Doesn't work without dropout here\n",
        "\n",
        "model.add(Flatten()) # ??? Why should we flatten the feature vector?\n",
        "\n",
        "model.add(Dense(128, activation='relu'))\n",
        "model.add(Dense(10, activation='softmax'))"
      ],
      "execution_count": 0,
      "outputs": []
    },
    {
      "cell_type": "code",
      "metadata": {
        "id": "iUV2BsXdcNQJ",
        "colab_type": "code",
        "cellView": "form",
        "colab": {}
      },
      "source": [
        "#@title\n",
        "model.compile(loss='categorical_crossentropy',\n",
        "              optimizer='sgd',\n",
        "              metrics=['accuracy'])"
      ],
      "execution_count": 0,
      "outputs": []
    },
    {
      "cell_type": "code",
      "metadata": {
        "id": "Io9euVCqB3eW",
        "colab_type": "code",
        "cellView": "form",
        "colab": {}
      },
      "source": [
        "#@title\n",
        "batch_size = 128\n",
        "epochs = 25\n",
        "\n",
        "model.fit(x_train, y_train, batch_size=batch_size, epochs=epochs)"
      ],
      "execution_count": 0,
      "outputs": []
    },
    {
      "cell_type": "code",
      "metadata": {
        "id": "2bS9Jv7pdKmF",
        "colab_type": "code",
        "cellView": "form",
        "colab": {}
      },
      "source": [
        "#@title\n",
        "eval_ = model.evaluate(x_test, y_test, verbose=0) # Score the model\n",
        "print('Test loss:', eval_[0])\n",
        "print('Test accuracy:', eval_[1])"
      ],
      "execution_count": 0,
      "outputs": []
    },
    {
      "cell_type": "markdown",
      "metadata": {
        "id": "QR4FKwWOJs03",
        "colab_type": "text"
      },
      "source": [
        "Test loss: 0.05813348390585916\n",
        "Test accuracy: 0.985\n",
        "\n",
        "Nice!"
      ]
    },
    {
      "cell_type": "markdown",
      "metadata": {
        "id": "uYEbB6SOHO3G",
        "colab_type": "text"
      },
      "source": [
        "More complex example: CIFAR-10 CNN"
      ]
    },
    {
      "cell_type": "code",
      "metadata": {
        "id": "V4jtAybdHsxC",
        "colab_type": "code",
        "cellView": "both",
        "colab": {}
      },
      "source": [
        "#@title\n",
        "import keras\n",
        "from keras.datasets import cifar10\n",
        "import matplotlib.pyplot as plt\n",
        "\n",
        "data = cifar10.load_data()"
      ],
      "execution_count": 0,
      "outputs": []
    },
    {
      "cell_type": "code",
      "metadata": {
        "id": "0KyJZ_g7Hxlc",
        "colab_type": "code",
        "cellView": "both",
        "colab": {}
      },
      "source": [
        "#@title\n",
        "(x_train, y_train), (x_test, y_test) = data\n",
        "print(x_train.shape, y_train.shape, x_test.shape, y_test.shape)"
      ],
      "execution_count": 0,
      "outputs": []
    },
    {
      "cell_type": "code",
      "metadata": {
        "id": "DkSjoV_LH8WR",
        "colab_type": "code",
        "cellView": "both",
        "colab": {}
      },
      "source": [
        "#@title\n",
        "print(x_train[0][0,0,:])\n",
        "\n",
        "plt.figure()\n",
        "plt.imshow(x_train[0], cmap = plt.cm.gray)"
      ],
      "execution_count": 0,
      "outputs": []
    },
    {
      "cell_type": "code",
      "metadata": {
        "id": "czKQPhC6IAgd",
        "colab_type": "code",
        "cellView": "both",
        "colab": {}
      },
      "source": [
        "#@title\n",
        "x_train, x_test = x_train / 255, x_test / 255 # Normalize data"
      ],
      "execution_count": 0,
      "outputs": []
    },
    {
      "cell_type": "code",
      "metadata": {
        "id": "SYKIO4JoISdk",
        "colab_type": "code",
        "cellView": "both",
        "colab": {}
      },
      "source": [
        "#@title\n",
        "print(x_train[0][0,0,:])\n",
        "\n",
        "plt.figure()\n",
        "plt.imshow(x_train[0], cmap = plt.cm.gray)"
      ],
      "execution_count": 0,
      "outputs": []
    },
    {
      "cell_type": "code",
      "metadata": {
        "id": "Qszcp3hFITiz",
        "colab_type": "code",
        "cellView": "both",
        "colab": {}
      },
      "source": [
        "#@title\n",
        "import numpy as np\n",
        "np.unique(y_train)"
      ],
      "execution_count": 0,
      "outputs": []
    },
    {
      "cell_type": "code",
      "metadata": {
        "id": "MyTQVpkBIeov",
        "colab_type": "code",
        "cellView": "both",
        "colab": {}
      },
      "source": [
        "#@title\n",
        "cat_num = 10\n",
        "\n",
        "y_train = keras.utils.to_categorical(y_train, cat_num)\n",
        "y_test = keras.utils.to_categorical(y_test, cat_num) # Encode integer-expressed classes as a binary vectors\n",
        "\n",
        "print(y_train.shape, y_test.shape)"
      ],
      "execution_count": 0,
      "outputs": []
    },
    {
      "cell_type": "code",
      "metadata": {
        "id": "R-DdqPdeIkbH",
        "colab_type": "code",
        "cellView": "both",
        "colab": {}
      },
      "source": [
        "#@title\n",
        "from keras.models import Sequential\n",
        "from keras.layers import Dense, Flatten\n",
        "from keras.layers import Conv2D, MaxPooling2D\n",
        "\n",
        "#Copy-pasted previous model with the changed input_shape to (32, 23, 3)\n",
        "\n",
        "model = Sequential()\n",
        "\n",
        "model.add(Conv2D(32, (3,3), activation='relu', input_shape=(32,32, 3)))\n",
        "model.add(MaxPooling2D(pool_size=(2,2)))\n",
        "\n",
        "model.add(Dropout(0.25))\n",
        "\n",
        "model.add(Flatten())\n",
        "\n",
        "model.add(Dense(128, activation='relu'))\n",
        "model.add(Dense(10, activation='softmax'))"
      ],
      "execution_count": 0,
      "outputs": []
    },
    {
      "cell_type": "code",
      "metadata": {
        "id": "4PVDlPDRI4vz",
        "colab_type": "code",
        "cellView": "form",
        "colab": {}
      },
      "source": [
        "#@title\n",
        "model.compile(loss='categorical_crossentropy',\n",
        "              optimizer='sgd',\n",
        "              metrics=['accuracy'])"
      ],
      "execution_count": 0,
      "outputs": []
    },
    {
      "cell_type": "code",
      "metadata": {
        "id": "ezTjXhQ7I9Nh",
        "colab_type": "code",
        "cellView": "form",
        "colab": {}
      },
      "source": [
        "#@title\n",
        "batch_size = 128\n",
        "epochs = 100\n",
        "\n",
        "model.fit(x_train, y_train, batch_size=batch_size, epochs=epochs)"
      ],
      "execution_count": 0,
      "outputs": []
    },
    {
      "cell_type": "code",
      "metadata": {
        "id": "dp0-4T_LJBS9",
        "colab_type": "code",
        "cellView": "form",
        "colab": {}
      },
      "source": [
        "#@title\n",
        "eval_ = model.evaluate(x_test, y_test, verbose=0) # Score the model\n",
        "print('Test loss:', eval_[0])\n",
        "print('Test accuracy:', eval_[1])"
      ],
      "execution_count": 0,
      "outputs": []
    },
    {
      "cell_type": "markdown",
      "metadata": {
        "id": "E40jgvP5Ksbk",
        "colab_type": "text"
      },
      "source": [
        "Test loss: 0.9657731695175171\n",
        "Test accuracy: 0.6775\n",
        "\n",
        "Shouldn't expect more from the such primitive model"
      ]
    },
    {
      "cell_type": "code",
      "metadata": {
        "id": "_WgHv8wVKxKN",
        "colab_type": "code",
        "cellView": "both",
        "colab": {}
      },
      "source": [
        "#@title\n",
        "from keras.models import Sequential\n",
        "from keras.layers import Dense, Flatten\n",
        "from keras.layers import Conv2D, MaxPooling2D\n",
        "\n",
        "model = Sequential()\n",
        "\n",
        "model.add(Conv2D(32, (3,3), activation='relu', input_shape=(32,32, 3)))\n",
        "model.add(Conv2D(32, (3,3), activation='relu')) # New convolution layer\n",
        "model.add(MaxPooling2D(pool_size=(2,2)))\n",
        "\n",
        "model.add(Dropout(0.15)) #Dropout 0.25 -> 0.15\n",
        "\n",
        "model.add(Conv2D(64, (3,3), activation='relu', input_shape=(32,32, 3)))\n",
        "model.add(Conv2D(64, (3,3), activation='relu')) \n",
        "model.add(MaxPooling2D(pool_size=(2,2))) # Additional Conv-Conv-MaxPool pattern with 64 filters\n",
        "\n",
        "model.add(Dropout(0.15))  #One more dropout layer\n",
        "\n",
        "model.add(Flatten())\n",
        "\n",
        "model.add(Dense(512, activation='relu')) #128 -> 512 neurons\n",
        "model.add(Dense(10, activation='softmax'))"
      ],
      "execution_count": 0,
      "outputs": []
    },
    {
      "cell_type": "code",
      "metadata": {
        "id": "jj5-QBsVLYZj",
        "colab_type": "code",
        "cellView": "both",
        "colab": {}
      },
      "source": [
        "#@title\n",
        "model.compile(loss='categorical_crossentropy',\n",
        "              optimizer='sgd',\n",
        "              metrics=['accuracy'])"
      ],
      "execution_count": 0,
      "outputs": []
    },
    {
      "cell_type": "code",
      "metadata": {
        "id": "Oz842R-XLdgx",
        "colab_type": "code",
        "cellView": "both",
        "colab": {}
      },
      "source": [
        "#@title\n",
        "batch_size = 128\n",
        "epochs = 100\n",
        "\n",
        "model.fit(x_train, y_train, batch_size=batch_size, epochs=epochs)"
      ],
      "execution_count": 0,
      "outputs": []
    },
    {
      "cell_type": "code",
      "metadata": {
        "id": "3j5_B3PcLfRw",
        "colab_type": "code",
        "cellView": "both",
        "colab": {}
      },
      "source": [
        "#@title\n",
        "eval_ = model.evaluate(x_test, y_test, verbose=0) # Score the model\n",
        "print('Test loss:', eval_[0])\n",
        "print('Test accuracy:', eval_[1])"
      ],
      "execution_count": 0,
      "outputs": []
    },
    {
      "cell_type": "markdown",
      "metadata": {
        "id": "nkEtGXisPnQE",
        "colab_type": "text"
      },
      "source": [
        "Test loss: 1.0367052768707274\n",
        "Test accuracy: 0.7355\n",
        "\n",
        "There's still work to do..."
      ]
    },
    {
      "cell_type": "markdown",
      "metadata": {
        "id": "21xrlGdwPyXF",
        "colab_type": "text"
      },
      "source": [
        "Some notices:\n",
        "- Dropouts have a drastic impact on models's performance. Introduced models didn't work completely without them.\n",
        "- Straightforward layer adding doesn't yield better result itself, with an any added layer hyperparameter tuning to realize deeper model's potential becomes substantially more tedious. Sometimes it's much easier to build simpler model rather than tune more complex."
      ]
    },
    {
      "cell_type": "markdown",
      "metadata": {
        "id": "Fi7yMkq1XpoD",
        "colab_type": "text"
      },
      "source": [
        "MURA"
      ]
    },
    {
      "cell_type": "code",
      "metadata": {
        "id": "JSLYYhe0PqvO",
        "colab_type": "code",
        "outputId": "458d80f1-22af-476c-a77a-d0c964e7f394",
        "colab": {
          "base_uri": "https://localhost:8080/",
          "height": 35
        }
      },
      "source": [
        "from google.colab import drive\n",
        "drive.mount('/content/drive')"
      ],
      "execution_count": 14,
      "outputs": [
        {
          "output_type": "stream",
          "text": [
            "Drive already mounted at /content/drive; to attempt to forcibly remount, call drive.mount(\"/content/drive\", force_remount=True).\n"
          ],
          "name": "stdout"
        }
      ]
    },
    {
      "cell_type": "code",
      "metadata": {
        "id": "Da8sx1sOPIN4",
        "colab_type": "code",
        "outputId": "2843995e-50a4-4382-d70d-4bbaaa31bf4c",
        "colab": {
          "base_uri": "https://localhost:8080/",
          "height": 72
        }
      },
      "source": [
        "#!rm -r 'drive/My Drive/MURA-v1.1'\n",
        "!unzip -q 'drive/My Drive/MURA-v1.1.zip' -d 'drive/My Drive/'\n",
        "!ls 'drive/My Drive/'"
      ],
      "execution_count": 6,
      "outputs": [
        {
          "output_type": "stream",
          "text": [
            " Books\t\t     MURA-v1.1\t\t\t Other\t 'Без названия.gsheet'\n",
            "'Colab Notebooks'    MURA-v1.1.zip\t\t Public  'Новый документ.gdoc'\n",
            " kits_cases_subset   Nemetskie_glagoly_A1.gdoc\t Work\n"
          ],
          "name": "stdout"
        }
      ]
    },
    {
      "cell_type": "code",
      "metadata": {
        "id": "HOgy5TU9Xn_u",
        "colab_type": "code",
        "outputId": "3a13f373-0690-413a-fe04-905bc31caf02",
        "colab": {
          "base_uri": "https://localhost:8080/",
          "height": 568
        }
      },
      "source": [
        "!ls 'drive/My Drive/MURA-v1.1/' ; echo '' ; head -5 'drive/My Drive/MURA-v1.1/train_image_paths.csv' ; echo ''\n",
        "!head -5 'drive/My Drive/MURA-v1.1/train_labeled_studies.csv'; echo '' ; head -5 'drive/My Drive/MURA-v1.1/valid_image_paths.csv'\n",
        "!echo '' ; head -240 'drive/My Drive/MURA-v1.1/valid_labeled_studies.csv' | tail -6\n",
        "!find . -name \\*.png | wc -l\n",
        "!cat  'drive/My Drive/MURA-v1.1/train_image_paths.csv' | wc -l\n",
        "!cat  'drive/My Drive/MURA-v1.1/valid_image_paths.csv' | wc -l"
      ],
      "execution_count": 7,
      "outputs": [
        {
          "output_type": "stream",
          "text": [
            "train\t\t       train_labeled_studies.csv  valid_image_paths.csv\n",
            "train_image_paths.csv  valid\t\t\t  valid_labeled_studies.csv\n",
            "\n",
            "MURA-v1.1/train/XR_SHOULDER/patient00001/study1_positive/image1.png\n",
            "MURA-v1.1/train/XR_SHOULDER/patient00001/study1_positive/image2.png\n",
            "MURA-v1.1/train/XR_SHOULDER/patient00001/study1_positive/image3.png\n",
            "MURA-v1.1/train/XR_SHOULDER/patient00002/study1_positive/image1.png\n",
            "MURA-v1.1/train/XR_SHOULDER/patient00002/study1_positive/image2.png\n",
            "\n",
            "MURA-v1.1/train/XR_SHOULDER/patient00001/study1_positive/,1\n",
            "MURA-v1.1/train/XR_SHOULDER/patient00002/study1_positive/,1\n",
            "MURA-v1.1/train/XR_SHOULDER/patient00003/study1_positive/,1\n",
            "MURA-v1.1/train/XR_SHOULDER/patient00004/study1_positive/,1\n",
            "MURA-v1.1/train/XR_SHOULDER/patient00005/study1_positive/,1\n",
            "\n",
            "MURA-v1.1/valid/XR_WRIST/patient11185/study1_positive/image1.png\n",
            "MURA-v1.1/valid/XR_WRIST/patient11185/study1_positive/image2.png\n",
            "MURA-v1.1/valid/XR_WRIST/patient11185/study1_positive/image3.png\n",
            "MURA-v1.1/valid/XR_WRIST/patient11185/study1_positive/image4.png\n",
            "MURA-v1.1/valid/XR_WRIST/patient11186/study1_positive/image1.png\n",
            "\n",
            "MURA-v1.1/valid/XR_WRIST/patient11389/study1_negative/,0\n",
            "MURA-v1.1/valid/XR_WRIST/patient11390/study1_negative/,0\n",
            "MURA-v1.1/valid/XR_WRIST/patient11391/study1_negative/,0\n",
            "MURA-v1.1/valid/XR_FOREARM/patient11392/study1_positive/,1\n",
            "MURA-v1.1/valid/XR_FOREARM/patient11393/study1_positive/,1\n",
            "MURA-v1.1/valid/XR_FOREARM/patient11394/study1_positive/,1\n",
            "40009\n",
            "36808\n",
            "3197\n"
          ],
          "name": "stdout"
        }
      ]
    },
    {
      "cell_type": "code",
      "metadata": {
        "id": "iKxCPRb3XxPU",
        "colab_type": "code",
        "outputId": "20c8a38e-f170-45fa-f07a-63dab68219df",
        "colab": {
          "base_uri": "https://localhost:8080/",
          "height": 35
        }
      },
      "source": [
        "import matplotlib.pyplot as plt\n",
        "import cv2\n",
        "\n",
        "\n",
        "img = cv2.imread('drive/My Drive/MURA-v1.1/train/XR_SHOULDER/patient00001/study1_positive/image1.png')\n",
        "img.shape"
      ],
      "execution_count": 9,
      "outputs": [
        {
          "output_type": "execute_result",
          "data": {
            "text/plain": [
              "(512, 380, 3)"
            ]
          },
          "metadata": {
            "tags": []
          },
          "execution_count": 9
        }
      ]
    },
    {
      "cell_type": "code",
      "metadata": {
        "id": "EqdWOgvaZBvF",
        "colab_type": "code",
        "outputId": "03dbcceb-ae8c-4720-80f4-c39d3861f3e4",
        "colab": {
          "base_uri": "https://localhost:8080/",
          "height": 613
        }
      },
      "source": [
        "plt.figure(figsize=(10,10))\n",
        "plt.imshow(img, cmap = plt.cm.gray)"
      ],
      "execution_count": 10,
      "outputs": [
        {
          "output_type": "execute_result",
          "data": {
            "text/plain": [
              "<matplotlib.image.AxesImage at 0x7f9fcefb0278>"
            ]
          },
          "metadata": {
            "tags": []
          },
          "execution_count": 10
        },
        {
          "output_type": "display_data",
          "data": {
            "image/png": "[encoded data removed]",
            "text/plain": [
              "<Figure size 720x720 with 1 Axes>"
            ]
          },
          "metadata": {
            "tags": []
          }
        }
      ]
    },
    {
      "cell_type": "code",
      "metadata": {
        "id": "_Ol4Zy7ZDZZY",
        "colab_type": "code",
        "outputId": "074375c7-39eb-4cad-f265-b13eb131d563",
        "colab": {
          "base_uri": "https://localhost:8080/",
          "height": 613
        }
      },
      "source": [
        "import numpy as np\n",
        "\n",
        "#Sum of the cross-differences between all 3 pairs of channels to determine, can we use a grayscale image without substantional information loss\n",
        "diff_map = np.abs(img[:,:,0]-img[:, :, 1])+np.abs(img[:,:,0]-img[:, :, 2]) + np.abs(img[:,:,1]-img[:,:,2])\n",
        "\n",
        "plt.figure(figsize=(10,10))\n",
        "plt.imshow(diff_map, cmap = plt.cm.gray)\n",
        "\n",
        "print(np.mean(diff_map), np.var(diff_map))#All 3 channels are the same, we can reduce the input tensor size 3x by using the grayscale image"
      ],
      "execution_count": 11,
      "outputs": [
        {
          "output_type": "stream",
          "text": [
            "0.0 0.0\n"
          ],
          "name": "stdout"
        },
        {
          "output_type": "display_data",
          "data": {
            "image/png": "[encoded data removed]",
            "text/plain": [
              "<Figure size 720x720 with 1 Axes>"
            ]
          },
          "metadata": {
            "tags": []
          }
        }
      ]
    },
    {
      "cell_type": "code",
      "metadata": {
        "id": "yN69AlokaLD7",
        "colab_type": "code",
        "outputId": "b3068837-43a0-4117-dc9e-ca36951aa9ed",
        "colab": {
          "base_uri": "https://localhost:8080/",
          "height": 1000
        }
      },
      "source": [
        "paths = None\n",
        "\n",
        "image_size = (100, 100)\n",
        "use_single_channel = True\n",
        "interpolation = cv2.INTER_AREA\n",
        "\n",
        "with open('drive/My Drive/MURA-v1.1/train_image_paths.csv', 'r') as file:\n",
        "  paths = file.read().split('\\n')\n",
        "\n",
        "train_images = []\n",
        "for i, path in enumerate(paths):\n",
        "  img = cv2.imread('drive/My Drive/' + path)\n",
        "  if img is None:\n",
        "    print('None image on path:', path)\n",
        "  else:\n",
        "    img = cv2.cvtColor(img, cv2.COLOR_BGR2GRAY)\n",
        "    img = cv2.resize(img, dsize=image_size, interpolation=interpolation)\n",
        "    path = \"\".join(path.replace('MURA-v1.1/train/', '').split('/')[:-1])\n",
        "    train_images.append((path, img))\n",
        "  if i % 1000 == 0:\n",
        "    print(i)\n",
        "\n",
        "\n",
        "print(train_images[0][0])\n",
        "\n",
        "plt.figure(figsize=(8,8))\n",
        "plt.imshow(train_images[0][1], cmap = plt.cm.gray)"
      ],
      "execution_count": 53,
      "outputs": [
        {
          "output_type": "stream",
          "text": [
            "0\n",
            "1000\n",
            "2000\n",
            "3000\n",
            "4000\n",
            "5000\n",
            "6000\n",
            "7000\n",
            "8000\n",
            "9000\n",
            "10000\n",
            "11000\n",
            "12000\n",
            "13000\n",
            "14000\n",
            "15000\n",
            "16000\n",
            "17000\n",
            "18000\n",
            "19000\n",
            "20000\n",
            "21000\n",
            "22000\n",
            "23000\n",
            "24000\n",
            "25000\n",
            "26000\n",
            "27000\n",
            "28000\n",
            "29000\n",
            "30000\n",
            "31000\n",
            "32000\n",
            "33000\n",
            "34000\n",
            "35000\n",
            "36000\n",
            "None image on path: \n",
            "XR_SHOULDERpatient00001study1_positive\n"
          ],
          "name": "stdout"
        },
        {
          "output_type": "execute_result",
          "data": {
            "text/plain": [
              "<matplotlib.image.AxesImage at 0x7f9fa39570f0>"
            ]
          },
          "metadata": {
            "tags": []
          },
          "execution_count": 53
        },
        {
          "output_type": "display_data",
          "data": {
            "image/png": "[encoded data removed]",
            "text/plain": [
              "<Figure size 576x576 with 1 Axes>"
            ]
          },
          "metadata": {
            "tags": []
          }
        }
      ]
    },
    {
      "cell_type": "markdown",
      "metadata": {
        "id": "CcE5eN9CK874",
        "colab_type": "text"
      },
      "source": [
        "It's supposed that the 100 x 100 x 1 image still contains enough information to recognise possible traumas/diseases\n",
        "\n",
        "Total input tensor size reduction is something like ~5 x 5 x 3 = 75 times"
      ]
    },
    {
      "cell_type": "code",
      "metadata": {
        "id": "_aeab4xJH5Mw",
        "colab_type": "code",
        "outputId": "37be3c9b-cb5b-46b5-bc34-0cc188a700a8",
        "colab": {
          "base_uri": "https://localhost:8080/",
          "height": 614
        }
      },
      "source": [
        "paths = None\n",
        "\n",
        "image_size = (100, 100)\n",
        "use_single_channel = True\n",
        "interpolation = cv2.INTER_AREA\n",
        "\n",
        "with open('drive/My Drive/MURA-v1.1/valid_image_paths.csv', 'r') as file:\n",
        "  paths = file.read().split('\\n')\n",
        "\n",
        "valid_images = []\n",
        "for i, path in enumerate(paths):\n",
        "  img = cv2.imread('drive/My Drive/' + path)\n",
        "  if img is None:\n",
        "    print('None image on path:', path)\n",
        "  else:\n",
        "    img = cv2.cvtColor(img, cv2.COLOR_BGR2GRAY)\n",
        "    img = cv2.resize(img, dsize=image_size, interpolation=interpolation)\n",
        "    path = \"\".join(path.replace('MURA-v1.1/valid/', '').split('/')[:-1])\n",
        "    valid_images.append((path, img))\n",
        "  if i % 1000 == 0:\n",
        "    print(i)\n",
        "\n",
        "print(valid_images[0][0])\n",
        "\n",
        "plt.figure(figsize=(8,8))\n",
        "plt.imshow(valid_images[0][1], cmap = plt.cm.gray)"
      ],
      "execution_count": 54,
      "outputs": [
        {
          "output_type": "stream",
          "text": [
            "0\n",
            "1000\n",
            "2000\n",
            "3000\n",
            "None image on path: \n",
            "XR_WRISTpatient11185study1_positive\n"
          ],
          "name": "stdout"
        },
        {
          "output_type": "execute_result",
          "data": {
            "text/plain": [
              "<matplotlib.image.AxesImage at 0x7f9fa44b1b70>"
            ]
          },
          "metadata": {
            "tags": []
          },
          "execution_count": 54
        },
        {
          "output_type": "display_data",
          "data": {
            "image/png": "[encoded data removed]",
            "text/plain": [
              "<Figure size 576x576 with 1 Axes>"
            ]
          },
          "metadata": {
            "tags": []
          }
        }
      ]
    },
    {
      "cell_type": "code",
      "metadata": {
        "id": "yo11CzPa87rw",
        "colab_type": "code",
        "colab": {
          "base_uri": "https://localhost:8080/",
          "height": 54
        },
        "outputId": "cbba0959-f908-4672-8b69-6bdc2f970dfd"
      },
      "source": [
        "with open('drive/My Drive/MURA-v1.1/train_labeled_studies.csv', 'r') as file:\n",
        "  paths = file.read().split('\\n')\n",
        "\n",
        "if paths[-1] == '':\n",
        "  paths.pop()\n",
        "\n",
        "train_label_paths, train_labels = list(map(lambda x: \"\".join(x.replace('MURA-v1.1/train/', '').split('/')[:-1]), paths)), np.array(list(map(lambda x: x.split(',')[1], paths)))\n",
        "\n",
        "train_labels = dict(zip(train_label_paths, train_labels))\n",
        "for item in train_labels.items():\n",
        "  print(item)\n",
        "  break\n",
        "\n",
        "with open('drive/My Drive/MURA-v1.1/valid_labeled_studies.csv', 'r') as file:\n",
        "  paths = file.read().split('\\n')\n",
        "\n",
        "if paths[-1] == '':\n",
        "  paths.pop()\n",
        "\n",
        "valid_label_paths, valid_labels = list(map(lambda x: \"\".join(x.replace('MURA-v1.1/valid/', '').split('/')[:-1]), paths)), np.array(list(map(lambda x: x.split(',')[1], paths)))\n",
        "valid_labels = dict(zip(valid_label_paths, valid_labels))\n",
        "for item in valid_labels.items():\n",
        "  print(item)\n",
        "  break"
      ],
      "execution_count": 55,
      "outputs": [
        {
          "output_type": "stream",
          "text": [
            "('XR_SHOULDERpatient00001study1_positive', '1')\n",
            "('XR_WRISTpatient11185study1_positive', '1')\n"
          ],
          "name": "stdout"
        }
      ]
    },
    {
      "cell_type": "code",
      "metadata": {
        "id": "Nk0A4LBp_sC7",
        "colab_type": "code",
        "colab": {
          "base_uri": "https://localhost:8080/",
          "height": 54
        },
        "outputId": "db88eb5f-d138-4d3c-fffc-bfaa5ddc0e23"
      },
      "source": [
        "train_labels_array = []\n",
        "for path, _ in train_images:\n",
        "  train_labels_array.append(train_labels[path])\n",
        "\n",
        "valid_labels_array = []\n",
        "for path, _ in valid_images:\n",
        "  valid_labels_array.append(valid_labels[path])\n",
        "\n",
        "print(len(train_images), len(train_labels_array))\n",
        "print(len(valid_images), len(valid_labels_array))"
      ],
      "execution_count": 56,
      "outputs": [
        {
          "output_type": "stream",
          "text": [
            "36808 36808\n",
            "3197 3197\n"
          ],
          "name": "stdout"
        }
      ]
    },
    {
      "cell_type": "code",
      "metadata": {
        "id": "bvmDHzilFxKB",
        "colab_type": "code",
        "colab": {}
      },
      "source": [
        "import keras\n",
        "\n",
        "t_images = list(map(lambda x: x[1], train_images))\n",
        "v_images = list(map(lambda x: x[1], valid_images))\n",
        "\n",
        "t_labels = keras.utils.to_categorical(train_labels_array, 2)\n",
        "v_labels = keras.utils.to_categorical(valid_labels_array, 2)\n"
      ],
      "execution_count": 0,
      "outputs": []
    },
    {
      "cell_type": "code",
      "metadata": {
        "id": "Ct3edcxPJGpy",
        "colab_type": "code",
        "colab": {
          "base_uri": "https://localhost:8080/",
          "height": 35
        },
        "outputId": "0c087c12-4a4b-4768-a905-587f882b799c"
      },
      "source": [
        "print(t_images[0].shape, v_images[0].shape, t_labels[0], v_labels[0])"
      ],
      "execution_count": 78,
      "outputs": [
        {
          "output_type": "stream",
          "text": [
            "(100, 100) (100, 100) [0. 1.] [0. 1.]\n"
          ],
          "name": "stdout"
        }
      ]
    },
    {
      "cell_type": "code",
      "metadata": {
        "id": "zCc2BI7DISe_",
        "colab_type": "code",
        "colab": {
          "base_uri": "https://localhost:8080/",
          "height": 35
        },
        "outputId": "b03c872e-72cb-413c-d31b-fbef6c2446a4"
      },
      "source": [
        "t_images = np.array(t_images)\n",
        "v_images = np.array(v_images)\n",
        "\n",
        "print(t_images.shape, v_images.shape)\n",
        "\n",
        "t_images = t_images.astype(np.float32) * 1./255\n",
        "v_images = v_images.astype(np.float32) * 1./255"
      ],
      "execution_count": 79,
      "outputs": [
        {
          "output_type": "stream",
          "text": [
            "(36808, 100, 100) (3197, 100, 100)\n"
          ],
          "name": "stdout"
        }
      ]
    },
    {
      "cell_type": "code",
      "metadata": {
        "id": "SrKRBKW9JMIK",
        "colab_type": "code",
        "colab": {
          "base_uri": "https://localhost:8080/",
          "height": 35
        },
        "outputId": "1662860a-f8d3-423e-cad1-19c05a0723ae"
      },
      "source": [
        "print(t_images[0].shape)"
      ],
      "execution_count": 80,
      "outputs": [
        {
          "output_type": "stream",
          "text": [
            "(100, 100)\n"
          ],
          "name": "stdout"
        }
      ]
    },
    {
      "cell_type": "code",
      "metadata": {
        "id": "qn8f8m_GUM1g",
        "colab_type": "code",
        "colab": {
          "base_uri": "https://localhost:8080/",
          "height": 35
        },
        "outputId": "2cf97dd2-d727-49c6-b1ae-6b5acb693888"
      },
      "source": [
        "t_images = t_images.reshape((-1, 100, 100, 1))\n",
        "v_images = v_images.reshape((-1, 100, 100, 1))\n",
        "\n",
        "print(t_images.shape, v_images.shape, t_labels.shape, v_labels.shape)"
      ],
      "execution_count": 81,
      "outputs": [
        {
          "output_type": "stream",
          "text": [
            "(36808, 100, 100, 1) (3197, 100, 100, 1) (36808, 2) (3197, 2)\n"
          ],
          "name": "stdout"
        }
      ]
    },
    {
      "cell_type": "markdown",
      "metadata": {
        "id": "oPnv9AaZGceb",
        "colab_type": "text"
      },
      "source": [
        "MURA Model"
      ]
    },
    {
      "cell_type": "code",
      "metadata": {
        "id": "NdWJnDrjGFE5",
        "colab_type": "code",
        "colab": {}
      },
      "source": [
        "from keras.models import Sequential\n",
        "from keras.layers import Dense, Flatten\n",
        "from keras.layers import Conv2D, MaxPooling2D, Dropout\n",
        "\n",
        "model = Sequential()\n",
        "\n",
        "model.add(Conv2D(64, (3,3), activation='relu', input_shape=(100, 100, 1)))\n",
        "model.add(Conv2D(64, (3,3), activation='relu'))\n",
        "model.add(MaxPooling2D(pool_size=(2,2)))\n",
        "\n",
        "model.add(Conv2D(128, (3,3), activation='relu'))\n",
        "model.add(Conv2D(128, (3,3), activation='relu'))\n",
        "model.add(MaxPooling2D(pool_size=(2,2)))\n",
        "\n",
        "model.add(Conv2D(256, (3,3), activation='relu'))\n",
        "model.add(Conv2D(256, (3,3), activation='relu'))\n",
        "model.add(MaxPooling2D(pool_size=(2,2)))\n",
        "\n",
        "model.add(Conv2D(512, (3,3), activation='relu'))\n",
        "model.add(Conv2D(512, (3,3), activation='relu'))\n",
        "model.add(MaxPooling2D(pool_size=(2,2)))\n",
        "\n",
        "model.add(Flatten())\n",
        "\n",
        "model.add(Dense(1024, activation='relu'))\n",
        "model.add(Dropout(0.5))\n",
        "model.add(Dense(1024, activation='relu'))\n",
        "model.add(Dropout(0.5))\n",
        "model.add(Dense(2, activation='softmax'))\n",
        "\n",
        "model.compile(loss='binary_crossentropy',\n",
        "              optimizer=keras.optimizers.SGD(lr=0.01, decay=1e-6, momentum=0.9, nesterov=True),\n",
        "              metrics=['accuracy'])"
      ],
      "execution_count": 0,
      "outputs": []
    },
    {
      "cell_type": "code",
      "metadata": {
        "id": "bPihXSDmXRz3",
        "colab_type": "code",
        "colab": {}
      },
      "source": [
        "from keras.preprocessing.image import ImageDataGenerator\n",
        "\n",
        "datagen = ImageDataGenerator(\n",
        "    featurewise_center=False,\n",
        "    featurewise_std_normalization=False,\n",
        "    rotation_range=15,\n",
        "    width_shift_range=0.1,\n",
        "    height_shift_range=0.1,\n",
        "    horizontal_flip=False,\n",
        "    fill_mode='nearest')\n",
        "\n",
        "datagen.fit(t_images)"
      ],
      "execution_count": 0,
      "outputs": []
    },
    {
      "cell_type": "code",
      "metadata": {
        "id": "GPbrw7tDIKlx",
        "colab_type": "code",
        "colab": {}
      },
      "source": [
        "batch_size = 256\n",
        "epochs = 50\n",
        "\n",
        "model.fit_generator(datagen.flow(t_images, t_labels, batch_size=batch_size), validation_data=(v_images, v_labels) epochs=epochs)"
      ],
      "execution_count": 0,
      "outputs": []
    },
    {
      "cell_type": "markdown",
      "metadata": {
        "id": "6pXWjArVjovK",
        "colab_type": "text"
      },
      "source": [
        "Notes\n",
        "\n",
        "Questions:\n",
        "\n",
        "- Why should I use softmax as a last layer output? Where else the Softmax could be useful? -> Simonsays video\n",
        "- What is neuron saturation? How does this relate with using the sigmoid functions?\n",
        "- Why should I use sigmoids as an output functions?\n",
        "- Gradient vanishing/explosion and it's relation with an activation function type\n",
        "- How does the dropout layers increase the ANN learning performance? -> Geoffrey Hinton, drawback: longer learning\n",
        "- What an ANN-building heuristics are exist?\n",
        "- What are the details of an ANN overfitting?\n",
        "- How does the convolutional layers learn?\n",
        "- What is ANN regularization, what problemes does it solve and it's relations with performance.\n",
        "- What are the factors influencing an ANN performance? Where an attention should be given while trying to implement an ANN to increase it's learning and decisioning speed?\n",
        "- Kernel striding, its pros and cons\n",
        "- Capsule Network -> Geoffrey Hinton\n",
        "- Network in Network\n",
        "- Transfer Learning\n",
        "- SGD hyperparameters\n",
        "- Delta Rule\n",
        "- Novikoff theorem\n",
        "- NN: the beginning\n",
        "\n",
        "AlexNet\n",
        "- Sparse connections due to the dual-GPU realization\n",
        "- Local Response Normalization\n",
        "- Overlapping Pooling\n",
        "- Extracting 5 image patches and averaging the predictions for all of them to produce the final evaluation\n",
        "- Applying the PCA on the image intensities and adding multiples of a principal components\n",
        "- Dividing learning rate by 10 when validation error stopped reducing with the current value with the initial value of 0.01\n",
        "- Occurring kernel specialization while training on different GPU's\n",
        "- Dropouts on the first two fully-connected layers\n",
        "\n",
        "Deconvolutional Network\n",
        "- Deconv net is a way to visualize a feature map, produced by one of the layers of the CNN\n",
        "- Maps feature map produced by filter to the original image's color space, showing patterns that excited the layer\n",
        "- Conventional CNN records the maxima (\"switches\") positions before the pooling application\n",
        "- A layer output is then being sended to the DeconvNN, which de-pools the image using switches by placing the input map pixels into switch positions, rectifies them by ReLU and uses transposed filters to reconstruct the input image\n",
        "- Can be used to \"debug\" CNN by visualizing the feature maps and filters, giving a knowledge about artifacts and \"dead\" filters\n",
        "\n",
        "NN work study:\n",
        "- A learned net has a hierarchical convolutional layer inference - lower layers are responsible for the lower-level features, such as edges (L1 in the paper), corners (L2), textures/patterns or text (L3), human silhouettes and animal body parts (L4). L5 mostly shows complete objects in different pose variations - higher levels in common are more and more class-specific and are targeting to detect more complex and large-scale features\n",
        "- Lower layers converge in a few epochs, while higher-level layers require considerable more time to learn\n",
        "- Lower layers output is very sensitive to rotation/translation/scaling, while higher layers output is much more robust in relation to the last two transformations, resulting in linear value change. CNN's are generally not invariant to the image rotation, except the radial symmetry cases.\n",
        "- CNNs poorly detect occluded objects\n",
        "\n",
        "ZF Net\n",
        "- The used CNN had a similar to the AlexNet structure, except being tightly-connected and using 7 x 7 filters with stride 2 vs 11 x 11 stride 4 filters to keep more local information\n",
        "- Removing 2 fully-connected or 2 convolutional layers decreased the model precision for a bit, while removing 2 conv and 2 FF layers decreased the precision dramatically. Conclusion: overall depth is important.\n",
        "- Trained on the one dataset CNN can work as a feature extractor for using on any another dataset by removing the last layer and putting the suitable classifier instead.\n",
        "\n",
        "VGG Net\n",
        "- Using only 3 x 3 filters arranged into more layers - that yields more discriminative model with the lower parameters count\n",
        "- The intuition is that two 3 x 3 filters have the same recepting filed as a one 5 x 5, and three 3 x 3 as a one 7 x 7. And, three 3 x 3 x C filters contain 3 x (3 x 3 x C) = 27C parameters, in comparison to the one 7 x 7 x C = 49C parameter filter, with the included non-linearity.\n",
        "- Using of the 1 x 1 x C filters projecting image to the same space, but through the composition of a few ReLU's and with no effect on the receptive field\n",
        "- Doubled batch size, weight decay regularization\n",
        "- Complex initialization: training less complex structure and using it's last N layers as the first three of the more complex model with the high learning rate to let them change\n",
        "- The're exist another random initialization techniques that render the metod above obsolete (Glorot & Bengio 2010)\n",
        "- Multi-scale approaches - the first one is using of 2 image scales - with shortest sides of an image as 256 and 384. Learning on 384 px image was speeded up by training on 256 px images and using pre-trained net to learn on 384 with initially low learning rate (0.001)\n",
        "- The second multi-scale approach is rescaling the image isotropically to make it's shortest side equal to random number between [Smin, Smax]. Smin was chosen as 256, and Smax as 512. Learning was speeded up by initializing with weights of the pre-trained model on 384 px images.\n",
        "\n",
        "DenseNet:\n",
        "- Every layer is connected to every other layer - every layer uses maps from all previous layers as inputs and it's output maps are used in all next layers.\n",
        "- Dense topology alleviates the vanishing-gradient problem, strengthens feature propagation, encourages feature reuse, substantially reduces the number of parameters"
      ]
    },
    {
      "cell_type": "code",
      "metadata": {
        "id": "4g1bLOshAZrr",
        "colab_type": "code",
        "colab": {}
      },
      "source": [
        ""
      ],
      "execution_count": 0,
      "outputs": []
    }
  ]
}