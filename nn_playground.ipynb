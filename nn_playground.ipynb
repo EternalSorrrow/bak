{
  "nbformat": 4,
  "nbformat_minor": 0,
  "metadata": {
    "colab": {
      "name": "nn_playground.ipynb",
      "provenance": [],
      "collapsed_sections": [],
      "include_colab_link": true
    },
    "kernelspec": {
      "name": "python3",
      "display_name": "Python 3"
    },
    "accelerator": "GPU"
  },
  "cells": [
    {
      "cell_type": "markdown",
      "metadata": {
        "id": "view-in-github",
        "colab_type": "text"
      },
      "source": [
        "<a href=\"https://colab.research.google.com/github/EternalSorrrow/bak/blob/master/nn_playground.ipynb\" target=\"_parent\"><img src=\"https://colab.research.google.com/assets/colab-badge.svg\" alt=\"Open In Colab\"/></a>"
      ]
    },
    {
      "cell_type": "markdown",
      "metadata": {
        "id": "oFbJIP11wLLU",
        "colab_type": "text"
      },
      "source": [
        "CIFAR-10 CNN - Keras Doc Example"
      ]
    },
    {
      "cell_type": "code",
      "metadata": {
        "id": "0vApCoKmuji6",
        "colab_type": "code",
        "outputId": "08b2c54f-2450-4811-dafc-b2c9fd8645c2",
        "colab": {
          "base_uri": "https://localhost:8080/",
          "height": 81
        }
      },
      "source": [
        "from __future__ import print_function\n",
        "import keras\n",
        "from keras.datasets import cifar10\n",
        "from keras.preprocessing.image import ImageDataGenerator\n",
        "from keras.models import Sequential\n",
        "from keras.layers import Dense, Dropout, Activation, Flatten\n",
        "from keras.layers import Conv2D, MaxPooling2D\n",
        "import os"
      ],
      "execution_count": 0,
      "outputs": [
        {
          "output_type": "stream",
          "text": [
            "Using TensorFlow backend.\n"
          ],
          "name": "stderr"
        },
        {
          "output_type": "display_data",
          "data": {
            "text/html": [
              "<p style=\"color: red;\">\n",
              "The default version of TensorFlow in Colab will soon switch to TensorFlow 2.x.<br>\n",
              "We recommend you <a href=\"https://www.tensorflow.org/guide/migrate\" target=\"_blank\">upgrade</a> now \n",
              "or ensure your notebook will continue to use TensorFlow 1.x via the <code>%tensorflow_version 1.x</code> magic:\n",
              "<a href=\"https://colab.research.google.com/notebooks/tensorflow_version.ipynb\" target=\"_blank\">more info</a>.</p>\n"
            ],
            "text/plain": [
              "<IPython.core.display.HTML object>"
            ]
          },
          "metadata": {
            "tags": []
          }
        }
      ]
    },
    {
      "cell_type": "code",
      "metadata": {
        "id": "ziF-r_SHvz_t",
        "colab_type": "code",
        "colab": {}
      },
      "source": [
        "batch_size = 32\n",
        "num_classes = 10\n",
        "epochs = 50 #VY: Echoch num reduction to terminate the process a bit earlier\n",
        "data_augmentation = True\n",
        "num_predictions = 20\n",
        "save_dir = os.path.join(os.getcwd(), 'saved_models')\n",
        "model_name = 'keras_cifar10_trained_model.h5'"
      ],
      "execution_count": 0,
      "outputs": []
    },
    {
      "cell_type": "code",
      "metadata": {
        "id": "nsu2D3ElwoE5",
        "colab_type": "code",
        "outputId": "aa0242d2-7600-481c-9da8-b3c6608f1944",
        "colab": {
          "base_uri": "https://localhost:8080/",
          "height": 104
        }
      },
      "source": [
        "(x_train, y_train), (x_test, y_test) = cifar10.load_data()\n",
        "print('x_train shape:', x_train.shape)\n",
        "print(x_train.shape[0], 'train samples')\n",
        "print(x_test.shape[0], 'test samples')"
      ],
      "execution_count": 0,
      "outputs": [
        {
          "output_type": "stream",
          "text": [
            "Downloading data from https://www.cs.toronto.edu/~kriz/cifar-10-python.tar.gz\n",
            "170500096/170498071 [==============================] - 11s 0us/step\n",
            "x_train shape: (50000, 32, 32, 3)\n",
            "50000 train samples\n",
            "10000 test samples\n"
          ],
          "name": "stdout"
        }
      ]
    },
    {
      "cell_type": "code",
      "metadata": {
        "id": "flG31WUyw_I2",
        "colab_type": "code",
        "colab": {}
      },
      "source": [
        "y_train = keras.utils.to_categorical(y_train, num_classes)\n",
        "y_test = keras.utils.to_categorical(y_test, num_classes)"
      ],
      "execution_count": 0,
      "outputs": []
    },
    {
      "cell_type": "code",
      "metadata": {
        "id": "vr18WQX8w_al",
        "colab_type": "code",
        "outputId": "6db8d12b-0ad6-4de0-cf50-de3890a01934",
        "colab": {
          "base_uri": "https://localhost:8080/",
          "height": 263
        }
      },
      "source": [
        "model = Sequential()\n",
        "model.add(Conv2D(32, (3, 3), padding='same',\n",
        "                 input_shape=x_train.shape[1:]))\n",
        "model.add(Activation('relu'))\n",
        "model.add(Conv2D(32, (3, 3)))\n",
        "model.add(Activation('relu'))\n",
        "model.add(MaxPooling2D(pool_size=(2, 2)))\n",
        "model.add(Dropout(0.25))\n",
        "\n",
        "model.add(Conv2D(64, (3, 3), padding='same'))\n",
        "model.add(Activation('relu'))\n",
        "model.add(Conv2D(64, (3, 3)))\n",
        "model.add(Activation('relu'))\n",
        "model.add(MaxPooling2D(pool_size=(2, 2)))\n",
        "model.add(Dropout(0.25))\n",
        "\n",
        "model.add(Flatten())\n",
        "model.add(Dense(512))\n",
        "model.add(Activation('relu'))\n",
        "model.add(Dropout(0.5))\n",
        "model.add(Dense(num_classes))\n",
        "model.add(Activation('softmax'))"
      ],
      "execution_count": 0,
      "outputs": [
        {
          "output_type": "stream",
          "text": [
            "WARNING:tensorflow:From /usr/local/lib/python3.6/dist-packages/keras/backend/tensorflow_backend.py:66: The name tf.get_default_graph is deprecated. Please use tf.compat.v1.get_default_graph instead.\n",
            "\n",
            "WARNING:tensorflow:From /usr/local/lib/python3.6/dist-packages/keras/backend/tensorflow_backend.py:541: The name tf.placeholder is deprecated. Please use tf.compat.v1.placeholder instead.\n",
            "\n",
            "WARNING:tensorflow:From /usr/local/lib/python3.6/dist-packages/keras/backend/tensorflow_backend.py:4432: The name tf.random_uniform is deprecated. Please use tf.random.uniform instead.\n",
            "\n",
            "WARNING:tensorflow:From /usr/local/lib/python3.6/dist-packages/keras/backend/tensorflow_backend.py:4267: The name tf.nn.max_pool is deprecated. Please use tf.nn.max_pool2d instead.\n",
            "\n",
            "WARNING:tensorflow:From /usr/local/lib/python3.6/dist-packages/keras/backend/tensorflow_backend.py:148: The name tf.placeholder_with_default is deprecated. Please use tf.compat.v1.placeholder_with_default instead.\n",
            "\n",
            "WARNING:tensorflow:From /usr/local/lib/python3.6/dist-packages/keras/backend/tensorflow_backend.py:3733: calling dropout (from tensorflow.python.ops.nn_ops) with keep_prob is deprecated and will be removed in a future version.\n",
            "Instructions for updating:\n",
            "Please use `rate` instead of `keep_prob`. Rate should be set to `rate = 1 - keep_prob`.\n"
          ],
          "name": "stdout"
        }
      ]
    },
    {
      "cell_type": "code",
      "metadata": {
        "id": "rYjyOG_exG2G",
        "colab_type": "code",
        "outputId": "96fba4fb-e854-4fdd-fd53-accc3c76f048",
        "colab": {
          "base_uri": "https://localhost:8080/",
          "height": 106
        }
      },
      "source": [
        "opt = keras.optimizers.RMSprop(lr=0.0001, decay=1e-6) #VY: Replaced learning_rate by lr\n",
        "\n",
        "# Let's train the model using RMSprop\n",
        "model.compile(loss='categorical_crossentropy',\n",
        "              optimizer=opt,\n",
        "              metrics=['accuracy'])\n",
        "\n",
        "x_train = x_train.astype('float32')\n",
        "x_test = x_test.astype('float32')\n",
        "x_train /= 255\n",
        "x_test /= 255"
      ],
      "execution_count": 0,
      "outputs": [
        {
          "output_type": "stream",
          "text": [
            "WARNING:tensorflow:From /usr/local/lib/python3.6/dist-packages/keras/optimizers.py:793: The name tf.train.Optimizer is deprecated. Please use tf.compat.v1.train.Optimizer instead.\n",
            "\n",
            "WARNING:tensorflow:From /usr/local/lib/python3.6/dist-packages/keras/backend/tensorflow_backend.py:3576: The name tf.log is deprecated. Please use tf.math.log instead.\n",
            "\n"
          ],
          "name": "stdout"
        }
      ]
    },
    {
      "cell_type": "code",
      "metadata": {
        "id": "L8oA0OgExe1M",
        "colab_type": "code",
        "outputId": "3e4fba04-e5be-45cd-e938-962bbb48640e",
        "colab": {
          "base_uri": "https://localhost:8080/",
          "height": 1000
        }
      },
      "source": [
        "if not data_augmentation:\n",
        "    print('Not using data augmentation.')\n",
        "    model.fit(x_train, y_train,\n",
        "              batch_size=batch_size,\n",
        "              epochs=epochs,\n",
        "              validation_data=(x_test, y_test),\n",
        "              shuffle=True)\n",
        "else:\n",
        "    print('Using real-time data augmentation.')\n",
        "    # This will do preprocessing and realtime data augmentation:\n",
        "    datagen = ImageDataGenerator(\n",
        "        featurewise_center=False,  # set input mean to 0 over the dataset\n",
        "        samplewise_center=False,  # set each sample mean to 0\n",
        "        featurewise_std_normalization=False,  # divide inputs by std of the dataset\n",
        "        samplewise_std_normalization=False,  # divide each input by its std\n",
        "        zca_whitening=False,  # apply ZCA whitening\n",
        "        zca_epsilon=1e-06,  # epsilon for ZCA whitening\n",
        "        rotation_range=0,  # randomly rotate images in the range (degrees, 0 to 180)\n",
        "        # randomly shift images horizontally (fraction of total width)\n",
        "        width_shift_range=0.1,\n",
        "        # randomly shift images vertically (fraction of total height)\n",
        "        height_shift_range=0.1,\n",
        "        shear_range=0.,  # set range for random shear\n",
        "        zoom_range=0.,  # set range for random zoom\n",
        "        channel_shift_range=0.,  # set range for random channel shifts\n",
        "        # set mode for filling points outside the input boundaries\n",
        "        fill_mode='nearest',\n",
        "        cval=0.,  # value used for fill_mode = \"constant\"\n",
        "        horizontal_flip=True,  # randomly flip images\n",
        "        vertical_flip=False,  # randomly flip images\n",
        "        # set rescaling factor (applied before any other transformation)\n",
        "        rescale=None,\n",
        "        # set function that will be applied on each input\n",
        "        preprocessing_function=None,\n",
        "        # image data format, either \"channels_first\" or \"channels_last\"\n",
        "        data_format=None,\n",
        "        # fraction of images reserved for validation (strictly between 0 and 1)\n",
        "        validation_split=0.0)\n",
        "\n",
        "    # Compute quantities required for feature-wise normalization\n",
        "    # (std, mean, and principal components if ZCA whitening is applied).\n",
        "    datagen.fit(x_train)\n",
        "\n",
        "    # Fit the model on the batches generated by datagen.flow().\n",
        "    model.fit_generator(datagen.flow(x_train, y_train,\n",
        "                                     batch_size=batch_size),\n",
        "                        epochs=epochs,\n",
        "                        validation_data=(x_test, y_test),\n",
        "                        workers=4)\n"
      ],
      "execution_count": 0,
      "outputs": [
        {
          "output_type": "stream",
          "text": [
            "Using real-time data augmentation.\n",
            "WARNING:tensorflow:From /usr/local/lib/python3.6/dist-packages/tensorflow_core/python/ops/math_grad.py:1424: where (from tensorflow.python.ops.array_ops) is deprecated and will be removed in a future version.\n",
            "Instructions for updating:\n",
            "Use tf.where in 2.0, which has the same broadcast rule as np.where\n",
            "WARNING:tensorflow:From /usr/local/lib/python3.6/dist-packages/keras/backend/tensorflow_backend.py:1033: The name tf.assign_add is deprecated. Please use tf.compat.v1.assign_add instead.\n",
            "\n",
            "WARNING:tensorflow:From /usr/local/lib/python3.6/dist-packages/keras/backend/tensorflow_backend.py:1020: The name tf.assign is deprecated. Please use tf.compat.v1.assign instead.\n",
            "\n",
            "WARNING:tensorflow:From /usr/local/lib/python3.6/dist-packages/keras/backend/tensorflow_backend.py:3005: The name tf.Session is deprecated. Please use tf.compat.v1.Session instead.\n",
            "\n",
            "Epoch 1/50\n",
            "WARNING:tensorflow:From /usr/local/lib/python3.6/dist-packages/keras/backend/tensorflow_backend.py:190: The name tf.get_default_session is deprecated. Please use tf.compat.v1.get_default_session instead.\n",
            "\n",
            "WARNING:tensorflow:From /usr/local/lib/python3.6/dist-packages/keras/backend/tensorflow_backend.py:197: The name tf.ConfigProto is deprecated. Please use tf.compat.v1.ConfigProto instead.\n",
            "\n",
            "WARNING:tensorflow:From /usr/local/lib/python3.6/dist-packages/keras/backend/tensorflow_backend.py:207: The name tf.global_variables is deprecated. Please use tf.compat.v1.global_variables instead.\n",
            "\n",
            "WARNING:tensorflow:From /usr/local/lib/python3.6/dist-packages/keras/backend/tensorflow_backend.py:216: The name tf.is_variable_initialized is deprecated. Please use tf.compat.v1.is_variable_initialized instead.\n",
            "\n",
            "WARNING:tensorflow:From /usr/local/lib/python3.6/dist-packages/keras/backend/tensorflow_backend.py:223: The name tf.variables_initializer is deprecated. Please use tf.compat.v1.variables_initializer instead.\n",
            "\n",
            "1563/1563 [==============================] - 57s 36ms/step - loss: 1.8493 - acc: 0.3212 - val_loss: 1.5540 - val_acc: 0.4332\n",
            "Epoch 2/50\n",
            "1563/1563 [==============================] - 50s 32ms/step - loss: 1.5892 - acc: 0.4197 - val_loss: 1.3962 - val_acc: 0.4992\n",
            "Epoch 3/50\n",
            "1563/1563 [==============================] - 49s 31ms/step - loss: 1.4707 - acc: 0.4679 - val_loss: 1.3098 - val_acc: 0.5307\n",
            "Epoch 4/50\n",
            "1563/1563 [==============================] - 49s 32ms/step - loss: 1.3931 - acc: 0.4989 - val_loss: 1.2493 - val_acc: 0.5531\n",
            "Epoch 5/50\n",
            "1563/1563 [==============================] - 49s 32ms/step - loss: 1.3242 - acc: 0.5260 - val_loss: 1.1305 - val_acc: 0.5987\n",
            "Epoch 6/50\n",
            "1563/1563 [==============================] - 49s 31ms/step - loss: 1.2644 - acc: 0.5504 - val_loss: 1.1052 - val_acc: 0.6089\n",
            "Epoch 7/50\n",
            "1563/1563 [==============================] - 49s 31ms/step - loss: 1.2133 - acc: 0.5670 - val_loss: 1.1050 - val_acc: 0.6133\n",
            "Epoch 8/50\n",
            "1563/1563 [==============================] - 50s 32ms/step - loss: 1.1772 - acc: 0.5831 - val_loss: 1.0799 - val_acc: 0.6250\n",
            "Epoch 9/50\n",
            "1563/1563 [==============================] - 49s 31ms/step - loss: 1.1428 - acc: 0.5939 - val_loss: 1.0023 - val_acc: 0.6467\n",
            "Epoch 10/50\n",
            "1563/1563 [==============================] - 49s 31ms/step - loss: 1.1101 - acc: 0.6078 - val_loss: 0.9635 - val_acc: 0.6655\n",
            "Epoch 11/50\n",
            "1563/1563 [==============================] - 49s 31ms/step - loss: 1.0849 - acc: 0.6152 - val_loss: 0.9718 - val_acc: 0.6613\n",
            "Epoch 12/50\n",
            "1563/1563 [==============================] - 49s 31ms/step - loss: 1.0605 - acc: 0.6260 - val_loss: 0.9564 - val_acc: 0.6677\n",
            "Epoch 13/50\n",
            "1563/1563 [==============================] - 49s 31ms/step - loss: 1.0326 - acc: 0.6373 - val_loss: 0.9110 - val_acc: 0.6794\n",
            "Epoch 14/50\n",
            "1563/1563 [==============================] - 49s 32ms/step - loss: 1.0176 - acc: 0.6418 - val_loss: 0.8817 - val_acc: 0.6933\n",
            "Epoch 15/50\n",
            "1563/1563 [==============================] - 49s 31ms/step - loss: 0.9956 - acc: 0.6491 - val_loss: 0.8818 - val_acc: 0.6920\n",
            "Epoch 16/50\n",
            "1563/1563 [==============================] - 49s 31ms/step - loss: 0.9783 - acc: 0.6594 - val_loss: 0.8985 - val_acc: 0.6882\n",
            "Epoch 17/50\n",
            "1563/1563 [==============================] - 49s 31ms/step - loss: 0.9689 - acc: 0.6614 - val_loss: 0.8440 - val_acc: 0.7090\n",
            "Epoch 18/50\n",
            "1563/1563 [==============================] - 49s 31ms/step - loss: 0.9524 - acc: 0.6683 - val_loss: 0.8088 - val_acc: 0.7202\n",
            "Epoch 19/50\n",
            "1563/1563 [==============================] - 49s 32ms/step - loss: 0.9421 - acc: 0.6701 - val_loss: 0.8084 - val_acc: 0.7244\n",
            "Epoch 20/50\n",
            "1563/1563 [==============================] - 49s 31ms/step - loss: 0.9316 - acc: 0.6738 - val_loss: 0.8073 - val_acc: 0.7225\n",
            "Epoch 21/50\n",
            "1563/1563 [==============================] - 49s 31ms/step - loss: 0.9213 - acc: 0.6778 - val_loss: 0.8371 - val_acc: 0.7137\n",
            "Epoch 22/50\n",
            "1563/1563 [==============================] - 49s 31ms/step - loss: 0.9143 - acc: 0.6833 - val_loss: 0.8857 - val_acc: 0.6890\n",
            "Epoch 23/50\n",
            "1563/1563 [==============================] - 49s 31ms/step - loss: 0.8991 - acc: 0.6876 - val_loss: 0.8447 - val_acc: 0.7098\n",
            "Epoch 24/50\n",
            "1563/1563 [==============================] - 49s 31ms/step - loss: 0.8974 - acc: 0.6891 - val_loss: 0.7727 - val_acc: 0.7364\n",
            "Epoch 25/50\n",
            "1563/1563 [==============================] - 49s 31ms/step - loss: 0.8868 - acc: 0.6947 - val_loss: 0.7906 - val_acc: 0.7312\n",
            "Epoch 26/50\n",
            "1563/1563 [==============================] - 49s 31ms/step - loss: 0.8831 - acc: 0.6941 - val_loss: 0.7957 - val_acc: 0.7284\n",
            "Epoch 27/50\n",
            "1563/1563 [==============================] - 49s 31ms/step - loss: 0.8772 - acc: 0.6970 - val_loss: 0.8101 - val_acc: 0.7266\n",
            "Epoch 28/50\n",
            "1563/1563 [==============================] - 49s 31ms/step - loss: 0.8715 - acc: 0.6992 - val_loss: 0.7789 - val_acc: 0.7379\n",
            "Epoch 29/50\n",
            "1563/1563 [==============================] - 49s 31ms/step - loss: 0.8682 - acc: 0.6991 - val_loss: 0.7689 - val_acc: 0.7421\n",
            "Epoch 30/50\n",
            "1563/1563 [==============================] - 49s 32ms/step - loss: 0.8623 - acc: 0.7022 - val_loss: 0.7569 - val_acc: 0.7479\n",
            "Epoch 31/50\n",
            "1563/1563 [==============================] - 49s 32ms/step - loss: 0.8620 - acc: 0.7047 - val_loss: 0.7318 - val_acc: 0.7523\n",
            "Epoch 32/50\n",
            "1563/1563 [==============================] - 49s 31ms/step - loss: 0.8503 - acc: 0.7062 - val_loss: 0.7788 - val_acc: 0.7360\n",
            "Epoch 33/50\n",
            "1563/1563 [==============================] - 49s 32ms/step - loss: 0.8512 - acc: 0.7079 - val_loss: 0.7580 - val_acc: 0.7394\n",
            "Epoch 34/50\n",
            "1563/1563 [==============================] - 49s 31ms/step - loss: 0.8432 - acc: 0.7113 - val_loss: 0.7267 - val_acc: 0.7545\n",
            "Epoch 35/50\n",
            "1563/1563 [==============================] - 49s 32ms/step - loss: 0.8432 - acc: 0.7123 - val_loss: 0.7020 - val_acc: 0.7618\n",
            "Epoch 36/50\n",
            "1563/1563 [==============================] - 50s 32ms/step - loss: 0.8389 - acc: 0.7126 - val_loss: 0.7964 - val_acc: 0.7295\n",
            "Epoch 37/50\n",
            "1563/1563 [==============================] - 49s 32ms/step - loss: 0.8352 - acc: 0.7133 - val_loss: 0.7558 - val_acc: 0.7485\n",
            "Epoch 38/50\n",
            "1563/1563 [==============================] - 50s 32ms/step - loss: 0.8345 - acc: 0.7157 - val_loss: 0.7124 - val_acc: 0.7583\n",
            "Epoch 39/50\n",
            "1563/1563 [==============================] - 49s 32ms/step - loss: 0.8378 - acc: 0.7141 - val_loss: 0.7414 - val_acc: 0.7518\n",
            "Epoch 40/50\n",
            "1563/1563 [==============================] - 49s 32ms/step - loss: 0.8261 - acc: 0.7169 - val_loss: 0.7005 - val_acc: 0.7587\n",
            "Epoch 41/50\n",
            "1563/1563 [==============================] - 49s 31ms/step - loss: 0.8233 - acc: 0.7171 - val_loss: 0.7444 - val_acc: 0.7445\n",
            "Epoch 42/50\n",
            "1563/1563 [==============================] - 49s 31ms/step - loss: 0.8178 - acc: 0.7208 - val_loss: 0.7950 - val_acc: 0.7375\n",
            "Epoch 43/50\n",
            "1563/1563 [==============================] - 49s 32ms/step - loss: 0.8159 - acc: 0.7211 - val_loss: 0.7197 - val_acc: 0.7602\n",
            "Epoch 44/50\n",
            "1563/1563 [==============================] - 49s 32ms/step - loss: 0.8151 - acc: 0.7230 - val_loss: 0.6976 - val_acc: 0.7653\n",
            "Epoch 45/50\n",
            "1563/1563 [==============================] - 49s 31ms/step - loss: 0.8168 - acc: 0.7196 - val_loss: 0.7443 - val_acc: 0.7533\n",
            "Epoch 46/50\n",
            "1563/1563 [==============================] - 49s 32ms/step - loss: 0.8141 - acc: 0.7238 - val_loss: 0.7446 - val_acc: 0.7490\n",
            "Epoch 47/50\n",
            "1563/1563 [==============================] - 49s 32ms/step - loss: 0.8120 - acc: 0.7252 - val_loss: 0.7520 - val_acc: 0.7556\n",
            "Epoch 48/50\n",
            "1563/1563 [==============================] - 49s 31ms/step - loss: 0.8075 - acc: 0.7293 - val_loss: 0.7511 - val_acc: 0.7402\n",
            "Epoch 49/50\n",
            "1563/1563 [==============================] - 49s 31ms/step - loss: 0.8103 - acc: 0.7238 - val_loss: 0.7058 - val_acc: 0.7625\n",
            "Epoch 50/50\n",
            "1563/1563 [==============================] - 49s 32ms/step - loss: 0.8058 - acc: 0.7290 - val_loss: 0.7243 - val_acc: 0.7597\n"
          ],
          "name": "stdout"
        }
      ]
    },
    {
      "cell_type": "code",
      "metadata": {
        "id": "ZJQ8TQ-KyP-7",
        "colab_type": "code",
        "outputId": "16703390-6e82-416b-d4da-1e1f8ade0a8d",
        "colab": {
          "base_uri": "https://localhost:8080/",
          "height": 34
        }
      },
      "source": [
        "# Save model and weights\n",
        "if not os.path.isdir(save_dir):\n",
        "    os.makedirs(save_dir)\n",
        "model_path = os.path.join(save_dir, model_name)\n",
        "model.save(model_path)\n",
        "print('Saved trained model at %s ' % model_path)"
      ],
      "execution_count": 0,
      "outputs": [
        {
          "output_type": "stream",
          "text": [
            "Saved trained model at /content/saved_models/keras_cifar10_trained_model.h5 \n"
          ],
          "name": "stdout"
        }
      ]
    },
    {
      "cell_type": "code",
      "metadata": {
        "id": "fS5pkYyfJWyb",
        "colab_type": "code",
        "outputId": "095c0e95-12ef-48a7-806d-25c77d3d9a4a",
        "colab": {
          "base_uri": "https://localhost:8080/",
          "height": 69
        }
      },
      "source": [
        "# Score trained model.\n",
        "scores = model.evaluate(x_test, y_test, verbose=1)\n",
        "print('Test loss:', scores[0])\n",
        "print('Test accuracy:', scores[1])"
      ],
      "execution_count": 0,
      "outputs": [
        {
          "output_type": "stream",
          "text": [
            "10000/10000 [==============================] - 1s 150us/step\n",
            "Test loss: 0.7243230033874511\n",
            "Test accuracy: 0.7597\n"
          ],
          "name": "stdout"
        }
      ]
    },
    {
      "cell_type": "code",
      "metadata": {
        "id": "nPPH4tBHL2Q-",
        "colab_type": "code",
        "colab": {}
      },
      "source": [
        ""
      ],
      "execution_count": 0,
      "outputs": []
    }
  ]
}