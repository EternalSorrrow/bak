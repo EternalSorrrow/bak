{
  "nbformat": 4,
  "nbformat_minor": 0,
  "metadata": {
    "colab": {
      "name": "nn_playground.ipynb",
      "provenance": [],
      "collapsed_sections": [],
      "include_colab_link": true
    },
    "kernelspec": {
      "name": "python3",
      "display_name": "Python 3"
    },
    "accelerator": "GPU"
  },
  "cells": [
    {
      "cell_type": "markdown",
      "metadata": {
        "id": "view-in-github",
        "colab_type": "text"
      },
      "source": [
        "<a href=\"https://colab.research.google.com/github/EternalSorrrow/bak/blob/master/nn_playground.ipynb\" target=\"_parent\"><img src=\"https://colab.research.google.com/assets/colab-badge.svg\" alt=\"Open In Colab\"/></a>"
      ]
    },
    {
      "cell_type": "markdown",
      "metadata": {
        "id": "uhHrufioZp3M",
        "colab_type": "text"
      },
      "source": [
        " MNIST CNN - Simple CNN"
      ]
    },
    {
      "cell_type": "code",
      "metadata": {
        "id": "T4BoK5KMZr7g",
        "colab_type": "code",
        "colab": {}
      },
      "source": [
        "import keras\n",
        "from keras.datasets import mnist\n",
        "import matplotlib.pyplot as plt\n",
        "\n",
        "data = mnist.load_data()"
      ],
      "execution_count": 0,
      "outputs": []
    },
    {
      "cell_type": "code",
      "metadata": {
        "id": "ZCgikYxuZx6j",
        "colab_type": "code",
        "outputId": "0cbab004-939d-4c81-9a3d-36c15d3ee403",
        "colab": {
          "base_uri": "https://localhost:8080/",
          "height": 34
        }
      },
      "source": [
        "(x_train, y_train), (x_test, y_test) = data\n",
        "print(x_train.shape, y_train.shape, x_test.shape, y_test.shape)"
      ],
      "execution_count": 0,
      "outputs": [
        {
          "output_type": "stream",
          "text": [
            "(60000, 28, 28) (60000,) (10000, 28, 28) (10000,)\n"
          ],
          "name": "stdout"
        }
      ]
    },
    {
      "cell_type": "code",
      "metadata": {
        "id": "33_AnbicZ4Lh",
        "colab_type": "code",
        "outputId": "49fa3034-e9b3-4b8c-e092-cbe6fa7658d6",
        "colab": {
          "base_uri": "https://localhost:8080/",
          "height": 282
        }
      },
      "source": [
        "plt.figure()\n",
        "plt.imshow(x_train[0], cmap = plt.cm.gray)"
      ],
      "execution_count": 0,
      "outputs": [
        {
          "output_type": "execute_result",
          "data": {
            "text/plain": [
              "<matplotlib.image.AxesImage at 0x7f87d04a5438>"
            ]
          },
          "metadata": {
            "tags": []
          },
          "execution_count": 5
        },
        {
          "output_type": "display_data",
          "data": {
            "image/png": "[encoded data removed]",
            "text/plain": [
              "<Figure size 432x288 with 1 Axes>"
            ]
          },
          "metadata": {
            "tags": []
          }
        }
      ]
    },
    {
      "cell_type": "code",
      "metadata": {
        "id": "q7bX_h3Hackz",
        "colab_type": "code",
        "colab": {}
      },
      "source": [
        "x_train, x_test = x_train / 255, x_test / 255 # Normalize data"
      ],
      "execution_count": 0,
      "outputs": []
    },
    {
      "cell_type": "code",
      "metadata": {
        "id": "7Xxegn8hdp5F",
        "colab_type": "code",
        "outputId": "7c9158d3-e069-443f-8177-a3f5366129a6",
        "colab": {
          "base_uri": "https://localhost:8080/",
          "height": 34
        }
      },
      "source": [
        "x_train = x_train.reshape((-1, 28, 28, 1)) # Reshape data since the Keras expects an array of 3d (not 2d) tensors on input\n",
        "x_test = x_test.reshape((-1, 28, 28, 1))\n",
        "\n",
        "print(x_train.shape, y_train.shape, x_test.shape, y_test.shape)"
      ],
      "execution_count": 0,
      "outputs": [
        {
          "output_type": "stream",
          "text": [
            "(60000, 28, 28, 1) (60000,) (10000, 28, 28, 1) (10000,)\n"
          ],
          "name": "stdout"
        }
      ]
    },
    {
      "cell_type": "code",
      "metadata": {
        "id": "cGM_DdJQBRwC",
        "colab_type": "code",
        "outputId": "a57999ed-1405-4a66-9445-222cb35d57bf",
        "colab": {
          "base_uri": "https://localhost:8080/",
          "height": 34
        }
      },
      "source": [
        "import numpy as np\n",
        "np.unique(y_train)"
      ],
      "execution_count": 0,
      "outputs": [
        {
          "output_type": "execute_result",
          "data": {
            "text/plain": [
              "array([0, 1, 2, 3, 4, 5, 6, 7, 8, 9], dtype=uint8)"
            ]
          },
          "metadata": {
            "tags": []
          },
          "execution_count": 17
        }
      ]
    },
    {
      "cell_type": "code",
      "metadata": {
        "id": "hthSqbtSdBDl",
        "colab_type": "code",
        "outputId": "228e9878-8915-4b2c-9bc2-255a5aa24a49",
        "colab": {
          "base_uri": "https://localhost:8080/",
          "height": 34
        }
      },
      "source": [
        "cat_num = 10\n",
        "\n",
        "y_train = keras.utils.to_categorical(y_train, cat_num)\n",
        "y_test = keras.utils.to_categorical(y_test, cat_num) # Encode integer-expressed classes as a binary vectors\n",
        "\n",
        "print(y_train.shape, y_test.shape)"
      ],
      "execution_count": 0,
      "outputs": [
        {
          "output_type": "stream",
          "text": [
            "(60000, 10) (10000, 10)\n"
          ],
          "name": "stdout"
        }
      ]
    },
    {
      "cell_type": "code",
      "metadata": {
        "id": "aA9EKJGTDgdu",
        "colab_type": "code",
        "outputId": "6489c43c-de5c-4848-dfec-5084f67b964b",
        "colab": {
          "base_uri": "https://localhost:8080/",
          "height": 34
        }
      },
      "source": [
        "print(y_train[0])"
      ],
      "execution_count": 0,
      "outputs": [
        {
          "output_type": "stream",
          "text": [
            "[0. 0. 0. 0. 0. 1. 0. 0. 0. 0.]\n"
          ],
          "name": "stdout"
        }
      ]
    },
    {
      "cell_type": "code",
      "metadata": {
        "id": "vOmF7SwuarcR",
        "colab_type": "code",
        "colab": {}
      },
      "source": [
        "from keras.models import Sequential\n",
        "from keras.layers import Dense, Flatten\n",
        "from keras.layers import Conv2D, MaxPooling2D\n",
        "\n",
        "model = Sequential()\n",
        "\n",
        "model.add(Conv2D(32, (3,3), activation='relu', input_shape=(28,28, 1)))\n",
        "model.add(MaxPooling2D(pool_size=(2,2)))\n",
        "\n",
        "model.add(Dropout(0.25)) # !!! Doesn't work without dropout here\n",
        "\n",
        "model.add(Flatten()) # ??? Why should we flatten the feature vector?\n",
        "\n",
        "model.add(Dense(128, activation='relu'))\n",
        "model.add(Dense(10, activation='softmax'))"
      ],
      "execution_count": 0,
      "outputs": []
    },
    {
      "cell_type": "code",
      "metadata": {
        "id": "iUV2BsXdcNQJ",
        "colab_type": "code",
        "colab": {}
      },
      "source": [
        "model.compile(loss='categorical_crossentropy',\n",
        "              optimizer='sgd',\n",
        "              metrics=['accuracy'])"
      ],
      "execution_count": 0,
      "outputs": []
    },
    {
      "cell_type": "code",
      "metadata": {
        "id": "Io9euVCqB3eW",
        "colab_type": "code",
        "outputId": "8b3e232b-6011-44ce-83f1-f892e8903334",
        "colab": {
          "base_uri": "https://localhost:8080/",
          "height": 903
        }
      },
      "source": [
        "batch_size = 128\n",
        "epochs = 25\n",
        "\n",
        "model.fit(x_train, y_train, batch_size=batch_size, epochs=epochs)"
      ],
      "execution_count": 0,
      "outputs": [
        {
          "output_type": "stream",
          "text": [
            "Epoch 1/25\n",
            "60000/60000 [==============================] - 3s 43us/step - loss: 1.9618 - acc: 0.8192\n",
            "Epoch 2/25\n",
            "60000/60000 [==============================] - 2s 30us/step - loss: 0.1279 - acc: 0.9602\n",
            "Epoch 3/25\n",
            "60000/60000 [==============================] - 2s 31us/step - loss: 0.0906 - acc: 0.9715\n",
            "Epoch 4/25\n",
            "60000/60000 [==============================] - 2s 30us/step - loss: 0.0727 - acc: 0.9773\n",
            "Epoch 5/25\n",
            "60000/60000 [==============================] - 2s 30us/step - loss: 0.0614 - acc: 0.9803\n",
            "Epoch 6/25\n",
            "60000/60000 [==============================] - 2s 30us/step - loss: 0.0520 - acc: 0.9832\n",
            "Epoch 7/25\n",
            "60000/60000 [==============================] - 2s 31us/step - loss: 0.0476 - acc: 0.9846\n",
            "Epoch 8/25\n",
            "60000/60000 [==============================] - 2s 31us/step - loss: 0.0393 - acc: 0.9872\n",
            "Epoch 9/25\n",
            "60000/60000 [==============================] - 2s 31us/step - loss: 0.0355 - acc: 0.9884\n",
            "Epoch 10/25\n",
            "60000/60000 [==============================] - 2s 31us/step - loss: 0.0311 - acc: 0.9897\n",
            "Epoch 11/25\n",
            "60000/60000 [==============================] - 2s 31us/step - loss: 0.0274 - acc: 0.9908\n",
            "Epoch 12/25\n",
            "60000/60000 [==============================] - 2s 31us/step - loss: 0.0247 - acc: 0.9916\n",
            "Epoch 13/25\n",
            "60000/60000 [==============================] - 2s 30us/step - loss: 0.0244 - acc: 0.9916\n",
            "Epoch 14/25\n",
            "60000/60000 [==============================] - 2s 31us/step - loss: 0.0207 - acc: 0.9931\n",
            "Epoch 15/25\n",
            "60000/60000 [==============================] - 2s 31us/step - loss: 0.0197 - acc: 0.9932\n",
            "Epoch 16/25\n",
            "60000/60000 [==============================] - 2s 31us/step - loss: 0.0186 - acc: 0.9934\n",
            "Epoch 17/25\n",
            "60000/60000 [==============================] - 2s 31us/step - loss: 0.0177 - acc: 0.9943\n",
            "Epoch 18/25\n",
            "60000/60000 [==============================] - 2s 30us/step - loss: 0.0169 - acc: 0.9944\n",
            "Epoch 19/25\n",
            "60000/60000 [==============================] - 2s 31us/step - loss: 0.0144 - acc: 0.9949\n",
            "Epoch 20/25\n",
            "60000/60000 [==============================] - 2s 31us/step - loss: 0.0141 - acc: 0.9951\n",
            "Epoch 21/25\n",
            "60000/60000 [==============================] - 2s 30us/step - loss: 0.0145 - acc: 0.9952\n",
            "Epoch 22/25\n",
            "60000/60000 [==============================] - 2s 31us/step - loss: 0.0112 - acc: 0.9963\n",
            "Epoch 23/25\n",
            "60000/60000 [==============================] - 2s 30us/step - loss: 0.0115 - acc: 0.9961\n",
            "Epoch 24/25\n",
            "60000/60000 [==============================] - 2s 31us/step - loss: 0.0110 - acc: 0.9962\n",
            "Epoch 25/25\n",
            "60000/60000 [==============================] - 2s 31us/step - loss: 0.0100 - acc: 0.9968\n"
          ],
          "name": "stdout"
        },
        {
          "output_type": "execute_result",
          "data": {
            "text/plain": [
              "<keras.callbacks.History at 0x7f87b0895978>"
            ]
          },
          "metadata": {
            "tags": []
          },
          "execution_count": 71
        }
      ]
    },
    {
      "cell_type": "code",
      "metadata": {
        "id": "2bS9Jv7pdKmF",
        "colab_type": "code",
        "outputId": "64900d2b-3ad0-4a99-e6c7-6fa9052d4eb4",
        "colab": {
          "base_uri": "https://localhost:8080/",
          "height": 52
        }
      },
      "source": [
        "eval_ = model.evaluate(x_test, y_test, verbose=0) # Score the model\n",
        "print('Test loss:', eval_[0])\n",
        "print('Test accuracy:', eval_[1])"
      ],
      "execution_count": 0,
      "outputs": [
        {
          "output_type": "stream",
          "text": [
            "Test loss: 0.05813348390585916\n",
            "Test accuracy: 0.985\n"
          ],
          "name": "stdout"
        }
      ]
    },
    {
      "cell_type": "markdown",
      "metadata": {
        "id": "QR4FKwWOJs03",
        "colab_type": "text"
      },
      "source": [
        "Test loss: 0.05813348390585916\n",
        "Test accuracy: 0.985\n",
        "\n",
        "Nice!"
      ]
    },
    {
      "cell_type": "markdown",
      "metadata": {
        "id": "uYEbB6SOHO3G",
        "colab_type": "text"
      },
      "source": [
        "More complex example: CIFAR-10 CNN"
      ]
    },
    {
      "cell_type": "code",
      "metadata": {
        "id": "V4jtAybdHsxC",
        "colab_type": "code",
        "outputId": "6c81d4f1-d755-4f19-dccd-a2726ecafcf0",
        "colab": {
          "base_uri": "https://localhost:8080/",
          "height": 52
        }
      },
      "source": [
        "import keras\n",
        "from keras.datasets import cifar10\n",
        "import matplotlib.pyplot as plt\n",
        "\n",
        "data = cifar10.load_data()"
      ],
      "execution_count": 0,
      "outputs": [
        {
          "output_type": "stream",
          "text": [
            "Downloading data from https://www.cs.toronto.edu/~kriz/cifar-10-python.tar.gz\n",
            "170500096/170498071 [==============================] - 6s 0us/step\n"
          ],
          "name": "stdout"
        }
      ]
    },
    {
      "cell_type": "code",
      "metadata": {
        "id": "0KyJZ_g7Hxlc",
        "colab_type": "code",
        "outputId": "ae14cb20-c4eb-4414-8fb9-be2f1431c8ba",
        "colab": {
          "base_uri": "https://localhost:8080/",
          "height": 34
        }
      },
      "source": [
        "(x_train, y_train), (x_test, y_test) = data\n",
        "print(x_train.shape, y_train.shape, x_test.shape, y_test.shape)"
      ],
      "execution_count": 0,
      "outputs": [
        {
          "output_type": "stream",
          "text": [
            "(50000, 32, 32, 3) (50000, 1) (10000, 32, 32, 3) (10000, 1)\n"
          ],
          "name": "stdout"
        }
      ]
    },
    {
      "cell_type": "code",
      "metadata": {
        "id": "DkSjoV_LH8WR",
        "colab_type": "code",
        "outputId": "894ec63d-f768-4f2a-8e2a-2f8a046b1844",
        "colab": {
          "base_uri": "https://localhost:8080/",
          "height": 301
        }
      },
      "source": [
        "print(x_train[0][0,0,:])\n",
        "\n",
        "plt.figure()\n",
        "plt.imshow(x_train[0], cmap = plt.cm.gray)"
      ],
      "execution_count": 0,
      "outputs": [
        {
          "output_type": "stream",
          "text": [
            "[59 62 63]\n"
          ],
          "name": "stdout"
        },
        {
          "output_type": "execute_result",
          "data": {
            "text/plain": [
              "<matplotlib.image.AxesImage at 0x7f87b02daef0>"
            ]
          },
          "metadata": {
            "tags": []
          },
          "execution_count": 79
        },
        {
          "output_type": "display_data",
          "data": {
            "image/png": "[encoded data removed]",
            "text/plain": [
              "<Figure size 432x288 with 1 Axes>"
            ]
          },
          "metadata": {
            "tags": []
          }
        }
      ]
    },
    {
      "cell_type": "code",
      "metadata": {
        "id": "czKQPhC6IAgd",
        "colab_type": "code",
        "colab": {}
      },
      "source": [
        "x_train, x_test = x_train / 255, x_test / 255 # Normalize data"
      ],
      "execution_count": 0,
      "outputs": []
    },
    {
      "cell_type": "code",
      "metadata": {
        "id": "SYKIO4JoISdk",
        "colab_type": "code",
        "outputId": "4b9ea6e7-752a-4aa2-c8d9-b27bdbfb57fc",
        "colab": {
          "base_uri": "https://localhost:8080/",
          "height": 301
        }
      },
      "source": [
        "print(x_train[0][0,0,:])\n",
        "\n",
        "plt.figure()\n",
        "plt.imshow(x_train[0], cmap = plt.cm.gray)"
      ],
      "execution_count": 0,
      "outputs": [
        {
          "output_type": "stream",
          "text": [
            "[0.23137255 0.24313725 0.24705882]\n"
          ],
          "name": "stdout"
        },
        {
          "output_type": "execute_result",
          "data": {
            "text/plain": [
              "<matplotlib.image.AxesImage at 0x7f87b022eda0>"
            ]
          },
          "metadata": {
            "tags": []
          },
          "execution_count": 81
        },
        {
          "output_type": "display_data",
          "data": {
            "image/png": "[encoded data removed]",
            "text/plain": [
              "<Figure size 432x288 with 1 Axes>"
            ]
          },
          "metadata": {
            "tags": []
          }
        }
      ]
    },
    {
      "cell_type": "code",
      "metadata": {
        "id": "Qszcp3hFITiz",
        "colab_type": "code",
        "outputId": "2af8443a-dbdb-46d6-c78e-883385b8428f",
        "colab": {
          "base_uri": "https://localhost:8080/",
          "height": 34
        }
      },
      "source": [
        "import numpy as np\n",
        "np.unique(y_train)"
      ],
      "execution_count": 0,
      "outputs": [
        {
          "output_type": "execute_result",
          "data": {
            "text/plain": [
              "array([0, 1, 2, 3, 4, 5, 6, 7, 8, 9], dtype=uint8)"
            ]
          },
          "metadata": {
            "tags": []
          },
          "execution_count": 82
        }
      ]
    },
    {
      "cell_type": "code",
      "metadata": {
        "id": "MyTQVpkBIeov",
        "colab_type": "code",
        "outputId": "9a58f80c-5bd4-4e2e-d8f2-2d12dc3c9b3a",
        "colab": {
          "base_uri": "https://localhost:8080/",
          "height": 34
        }
      },
      "source": [
        "cat_num = 10\n",
        "\n",
        "y_train = keras.utils.to_categorical(y_train, cat_num)\n",
        "y_test = keras.utils.to_categorical(y_test, cat_num) # Encode integer-expressed classes as a binary vectors\n",
        "\n",
        "print(y_train.shape, y_test.shape)"
      ],
      "execution_count": 0,
      "outputs": [
        {
          "output_type": "stream",
          "text": [
            "(50000, 10) (10000, 10)\n"
          ],
          "name": "stdout"
        }
      ]
    },
    {
      "cell_type": "code",
      "metadata": {
        "id": "R-DdqPdeIkbH",
        "colab_type": "code",
        "colab": {}
      },
      "source": [
        "from keras.models import Sequential\n",
        "from keras.layers import Dense, Flatten\n",
        "from keras.layers import Conv2D, MaxPooling2D\n",
        "\n",
        "#Copy-pasted previous model with the changed input_shape to (32, 23, 3)\n",
        "\n",
        "model = Sequential()\n",
        "\n",
        "model.add(Conv2D(32, (3,3), activation='relu', input_shape=(32,32, 3)))\n",
        "model.add(MaxPooling2D(pool_size=(2,2)))\n",
        "\n",
        "model.add(Dropout(0.25))\n",
        "\n",
        "model.add(Flatten())\n",
        "\n",
        "model.add(Dense(128, activation='relu'))\n",
        "model.add(Dense(10, activation='softmax'))"
      ],
      "execution_count": 0,
      "outputs": []
    },
    {
      "cell_type": "code",
      "metadata": {
        "id": "4PVDlPDRI4vz",
        "colab_type": "code",
        "colab": {}
      },
      "source": [
        "model.compile(loss='categorical_crossentropy',\n",
        "              optimizer='sgd',\n",
        "              metrics=['accuracy'])"
      ],
      "execution_count": 0,
      "outputs": []
    },
    {
      "cell_type": "code",
      "metadata": {
        "id": "ezTjXhQ7I9Nh",
        "colab_type": "code",
        "outputId": "96eeea6f-fef8-4fac-fa78-3eeab45eb03b",
        "colab": {
          "base_uri": "https://localhost:8080/",
          "height": 1000
        }
      },
      "source": [
        "batch_size = 128\n",
        "epochs = 100\n",
        "\n",
        "model.fit(x_train, y_train, batch_size=batch_size, epochs=epochs)"
      ],
      "execution_count": 0,
      "outputs": [
        {
          "output_type": "stream",
          "text": [
            "Epoch 1/100\n",
            "50000/50000 [==============================] - 3s 68us/step - loss: 2.1312 - acc: 0.2261\n",
            "Epoch 2/100\n",
            "50000/50000 [==============================] - 3s 51us/step - loss: 1.8992 - acc: 0.3286\n",
            "Epoch 3/100\n",
            "50000/50000 [==============================] - 2s 50us/step - loss: 1.7927 - acc: 0.3725\n",
            "Epoch 4/100\n",
            "50000/50000 [==============================] - 3s 51us/step - loss: 1.7036 - acc: 0.4052\n",
            "Epoch 5/100\n",
            "50000/50000 [==============================] - 2s 50us/step - loss: 1.6227 - acc: 0.4309\n",
            "Epoch 6/100\n",
            "50000/50000 [==============================] - 3s 50us/step - loss: 1.5473 - acc: 0.4588\n",
            "Epoch 7/100\n",
            "50000/50000 [==============================] - 3s 50us/step - loss: 1.4826 - acc: 0.4773\n",
            "Epoch 8/100\n",
            "50000/50000 [==============================] - 3s 50us/step - loss: 1.4256 - acc: 0.4975\n",
            "Epoch 9/100\n",
            "50000/50000 [==============================] - 3s 51us/step - loss: 1.3835 - acc: 0.5126\n",
            "Epoch 10/100\n",
            "50000/50000 [==============================] - 3s 50us/step - loss: 1.3486 - acc: 0.5246\n",
            "Epoch 11/100\n",
            "50000/50000 [==============================] - 3s 50us/step - loss: 1.3191 - acc: 0.5372\n",
            "Epoch 12/100\n",
            "50000/50000 [==============================] - 3s 51us/step - loss: 1.2959 - acc: 0.5446\n",
            "Epoch 13/100\n",
            "50000/50000 [==============================] - 3s 50us/step - loss: 1.2728 - acc: 0.5537\n",
            "Epoch 14/100\n",
            "50000/50000 [==============================] - 2s 50us/step - loss: 1.2541 - acc: 0.5590\n",
            "Epoch 15/100\n",
            "50000/50000 [==============================] - 2s 49us/step - loss: 1.2341 - acc: 0.5676\n",
            "Epoch 16/100\n",
            "50000/50000 [==============================] - 2s 50us/step - loss: 1.2192 - acc: 0.5737\n",
            "Epoch 17/100\n",
            "50000/50000 [==============================] - 2s 50us/step - loss: 1.2040 - acc: 0.5794\n",
            "Epoch 18/100\n",
            "50000/50000 [==============================] - 2s 49us/step - loss: 1.1900 - acc: 0.5836\n",
            "Epoch 19/100\n",
            "50000/50000 [==============================] - 2s 50us/step - loss: 1.1742 - acc: 0.5883\n",
            "Epoch 20/100\n",
            "50000/50000 [==============================] - 3s 50us/step - loss: 1.1612 - acc: 0.5942\n",
            "Epoch 21/100\n",
            "50000/50000 [==============================] - 2s 49us/step - loss: 1.1490 - acc: 0.5990\n",
            "Epoch 22/100\n",
            "50000/50000 [==============================] - 2s 50us/step - loss: 1.1338 - acc: 0.6047\n",
            "Epoch 23/100\n",
            "50000/50000 [==============================] - 3s 52us/step - loss: 1.1242 - acc: 0.6064\n",
            "Epoch 24/100\n",
            "50000/50000 [==============================] - 3s 51us/step - loss: 1.1126 - acc: 0.6112\n",
            "Epoch 25/100\n",
            "50000/50000 [==============================] - 3s 52us/step - loss: 1.1022 - acc: 0.6169\n",
            "Epoch 26/100\n",
            "50000/50000 [==============================] - 3s 51us/step - loss: 1.0898 - acc: 0.6200\n",
            "Epoch 27/100\n",
            "50000/50000 [==============================] - 3s 52us/step - loss: 1.0795 - acc: 0.6237\n",
            "Epoch 28/100\n",
            "50000/50000 [==============================] - 2s 50us/step - loss: 1.0669 - acc: 0.6289\n",
            "Epoch 29/100\n",
            "50000/50000 [==============================] - 2s 49us/step - loss: 1.0525 - acc: 0.6334\n",
            "Epoch 30/100\n",
            "50000/50000 [==============================] - 2s 50us/step - loss: 1.0433 - acc: 0.6348\n",
            "Epoch 31/100\n",
            "50000/50000 [==============================] - 2s 50us/step - loss: 1.0322 - acc: 0.6397\n",
            "Epoch 32/100\n",
            "50000/50000 [==============================] - 3s 50us/step - loss: 1.0235 - acc: 0.6446\n",
            "Epoch 33/100\n",
            "50000/50000 [==============================] - 2s 50us/step - loss: 1.0100 - acc: 0.6470\n",
            "Epoch 34/100\n",
            "50000/50000 [==============================] - 2s 50us/step - loss: 1.0019 - acc: 0.6511\n",
            "Epoch 35/100\n",
            "50000/50000 [==============================] - 2s 50us/step - loss: 0.9925 - acc: 0.6551\n",
            "Epoch 36/100\n",
            "50000/50000 [==============================] - 2s 50us/step - loss: 0.9799 - acc: 0.6585\n",
            "Epoch 37/100\n",
            "50000/50000 [==============================] - 2s 50us/step - loss: 0.9691 - acc: 0.6626\n",
            "Epoch 38/100\n",
            "50000/50000 [==============================] - 3s 51us/step - loss: 0.9603 - acc: 0.6645\n",
            "Epoch 39/100\n",
            "50000/50000 [==============================] - 3s 51us/step - loss: 0.9533 - acc: 0.6676\n",
            "Epoch 40/100\n",
            "50000/50000 [==============================] - 3s 50us/step - loss: 0.9422 - acc: 0.6707\n",
            "Epoch 41/100\n",
            "50000/50000 [==============================] - 3s 51us/step - loss: 0.9337 - acc: 0.6755\n",
            "Epoch 42/100\n",
            "50000/50000 [==============================] - 3s 51us/step - loss: 0.9247 - acc: 0.6772\n",
            "Epoch 43/100\n",
            "50000/50000 [==============================] - 3s 52us/step - loss: 0.9165 - acc: 0.6806\n",
            "Epoch 44/100\n",
            "50000/50000 [==============================] - 3s 51us/step - loss: 0.9084 - acc: 0.6850\n",
            "Epoch 45/100\n",
            "50000/50000 [==============================] - 3s 51us/step - loss: 0.8961 - acc: 0.6894\n",
            "Epoch 46/100\n",
            "50000/50000 [==============================] - 3s 51us/step - loss: 0.8885 - acc: 0.6898\n",
            "Epoch 47/100\n",
            "50000/50000 [==============================] - 3s 51us/step - loss: 0.8799 - acc: 0.6941\n",
            "Epoch 48/100\n",
            "50000/50000 [==============================] - 3s 51us/step - loss: 0.8688 - acc: 0.6978\n",
            "Epoch 49/100\n",
            "50000/50000 [==============================] - 2s 49us/step - loss: 0.8637 - acc: 0.7012\n",
            "Epoch 50/100\n",
            "50000/50000 [==============================] - 2s 50us/step - loss: 0.8578 - acc: 0.7034\n",
            "Epoch 51/100\n",
            "50000/50000 [==============================] - 2s 49us/step - loss: 0.8450 - acc: 0.7070\n",
            "Epoch 52/100\n",
            "50000/50000 [==============================] - 3s 50us/step - loss: 0.8368 - acc: 0.7095\n",
            "Epoch 53/100\n",
            "50000/50000 [==============================] - 2s 49us/step - loss: 0.8293 - acc: 0.7125\n",
            "Epoch 54/100\n",
            "50000/50000 [==============================] - 2s 50us/step - loss: 0.8171 - acc: 0.7164\n",
            "Epoch 55/100\n",
            "50000/50000 [==============================] - 3s 52us/step - loss: 0.8132 - acc: 0.7203\n",
            "Epoch 56/100\n",
            "50000/50000 [==============================] - 3s 51us/step - loss: 0.8059 - acc: 0.7206\n",
            "Epoch 57/100\n",
            "50000/50000 [==============================] - 2s 49us/step - loss: 0.7990 - acc: 0.7231\n",
            "Epoch 58/100\n",
            "50000/50000 [==============================] - 2s 50us/step - loss: 0.7887 - acc: 0.7254\n",
            "Epoch 59/100\n",
            "50000/50000 [==============================] - 2s 49us/step - loss: 0.7808 - acc: 0.7277\n",
            "Epoch 60/100\n",
            "50000/50000 [==============================] - 2s 50us/step - loss: 0.7715 - acc: 0.7330\n",
            "Epoch 61/100\n",
            "50000/50000 [==============================] - 2s 49us/step - loss: 0.7654 - acc: 0.7350\n",
            "Epoch 62/100\n",
            "50000/50000 [==============================] - 2s 50us/step - loss: 0.7598 - acc: 0.7370\n",
            "Epoch 63/100\n",
            "50000/50000 [==============================] - 2s 49us/step - loss: 0.7503 - acc: 0.7395\n",
            "Epoch 64/100\n",
            "50000/50000 [==============================] - 2s 50us/step - loss: 0.7425 - acc: 0.7425\n",
            "Epoch 65/100\n",
            "50000/50000 [==============================] - 2s 50us/step - loss: 0.7333 - acc: 0.7475\n",
            "Epoch 66/100\n",
            "50000/50000 [==============================] - 2s 49us/step - loss: 0.7304 - acc: 0.7487\n",
            "Epoch 67/100\n",
            "50000/50000 [==============================] - 3s 51us/step - loss: 0.7230 - acc: 0.7492\n",
            "Epoch 68/100\n",
            "50000/50000 [==============================] - 2s 50us/step - loss: 0.7158 - acc: 0.7532\n",
            "Epoch 69/100\n",
            "50000/50000 [==============================] - 2s 49us/step - loss: 0.7061 - acc: 0.7568\n",
            "Epoch 70/100\n",
            "50000/50000 [==============================] - 3s 51us/step - loss: 0.6993 - acc: 0.7567\n",
            "Epoch 71/100\n",
            "50000/50000 [==============================] - 3s 50us/step - loss: 0.6918 - acc: 0.7617\n",
            "Epoch 72/100\n",
            "50000/50000 [==============================] - 3s 50us/step - loss: 0.6836 - acc: 0.7648\n",
            "Epoch 73/100\n",
            "50000/50000 [==============================] - 3s 50us/step - loss: 0.6794 - acc: 0.7654\n",
            "Epoch 74/100\n",
            "50000/50000 [==============================] - 3s 50us/step - loss: 0.6695 - acc: 0.7683\n",
            "Epoch 75/100\n",
            "50000/50000 [==============================] - 2s 50us/step - loss: 0.6631 - acc: 0.7732\n",
            "Epoch 76/100\n",
            "50000/50000 [==============================] - 3s 50us/step - loss: 0.6550 - acc: 0.7741\n",
            "Epoch 77/100\n",
            "50000/50000 [==============================] - 2s 49us/step - loss: 0.6493 - acc: 0.7759\n",
            "Epoch 78/100\n",
            "50000/50000 [==============================] - 2s 49us/step - loss: 0.6452 - acc: 0.7776\n",
            "Epoch 79/100\n",
            "50000/50000 [==============================] - 2s 49us/step - loss: 0.6352 - acc: 0.7801\n",
            "Epoch 80/100\n",
            "50000/50000 [==============================] - 2s 49us/step - loss: 0.6294 - acc: 0.7843\n",
            "Epoch 81/100\n",
            "50000/50000 [==============================] - 3s 50us/step - loss: 0.6207 - acc: 0.7861\n",
            "Epoch 82/100\n",
            "50000/50000 [==============================] - 2s 50us/step - loss: 0.6167 - acc: 0.7856\n",
            "Epoch 83/100\n",
            "50000/50000 [==============================] - 2s 50us/step - loss: 0.6055 - acc: 0.7918\n",
            "Epoch 84/100\n",
            "50000/50000 [==============================] - 2s 50us/step - loss: 0.6067 - acc: 0.7912\n",
            "Epoch 85/100\n",
            "50000/50000 [==============================] - 3s 50us/step - loss: 0.5983 - acc: 0.7924\n",
            "Epoch 86/100\n",
            "50000/50000 [==============================] - 2s 50us/step - loss: 0.5890 - acc: 0.7981\n",
            "Epoch 87/100\n",
            "50000/50000 [==============================] - 2s 50us/step - loss: 0.5819 - acc: 0.7986\n",
            "Epoch 88/100\n",
            "50000/50000 [==============================] - 2s 49us/step - loss: 0.5771 - acc: 0.8009\n",
            "Epoch 89/100\n",
            "50000/50000 [==============================] - 3s 50us/step - loss: 0.5661 - acc: 0.8066\n",
            "Epoch 90/100\n",
            "50000/50000 [==============================] - 2s 50us/step - loss: 0.5660 - acc: 0.8042\n",
            "Epoch 91/100\n",
            "50000/50000 [==============================] - 2s 50us/step - loss: 0.5611 - acc: 0.8067\n",
            "Epoch 92/100\n",
            "50000/50000 [==============================] - 2s 49us/step - loss: 0.5552 - acc: 0.8103\n",
            "Epoch 93/100\n",
            "50000/50000 [==============================] - 2s 50us/step - loss: 0.5450 - acc: 0.8114\n",
            "Epoch 94/100\n",
            "50000/50000 [==============================] - 2s 49us/step - loss: 0.5403 - acc: 0.8140\n",
            "Epoch 95/100\n",
            "50000/50000 [==============================] - 3s 50us/step - loss: 0.5305 - acc: 0.8165\n",
            "Epoch 96/100\n",
            "50000/50000 [==============================] - 2s 49us/step - loss: 0.5287 - acc: 0.8201\n",
            "Epoch 97/100\n",
            "50000/50000 [==============================] - 2s 50us/step - loss: 0.5214 - acc: 0.8213\n",
            "Epoch 98/100\n",
            "50000/50000 [==============================] - 2s 49us/step - loss: 0.5148 - acc: 0.8232\n",
            "Epoch 99/100\n",
            "50000/50000 [==============================] - 3s 50us/step - loss: 0.5082 - acc: 0.8244\n",
            "Epoch 100/100\n",
            "50000/50000 [==============================] - 2s 49us/step - loss: 0.5031 - acc: 0.8271\n"
          ],
          "name": "stdout"
        },
        {
          "output_type": "execute_result",
          "data": {
            "text/plain": [
              "<keras.callbacks.History at 0x7f87b00fe9b0>"
            ]
          },
          "metadata": {
            "tags": []
          },
          "execution_count": 96
        }
      ]
    },
    {
      "cell_type": "code",
      "metadata": {
        "id": "dp0-4T_LJBS9",
        "colab_type": "code",
        "outputId": "3b821144-09ff-4d40-fd88-724894cfe25e",
        "colab": {
          "base_uri": "https://localhost:8080/",
          "height": 52
        }
      },
      "source": [
        "eval_ = model.evaluate(x_test, y_test, verbose=0) # Score the model\n",
        "print('Test loss:', eval_[0])\n",
        "print('Test accuracy:', eval_[1])"
      ],
      "execution_count": 0,
      "outputs": [
        {
          "output_type": "stream",
          "text": [
            "Test loss: 0.9657731695175171\n",
            "Test accuracy: 0.6775\n"
          ],
          "name": "stdout"
        }
      ]
    },
    {
      "cell_type": "markdown",
      "metadata": {
        "id": "E40jgvP5Ksbk",
        "colab_type": "text"
      },
      "source": [
        "Test loss: 0.9657731695175171\n",
        "Test accuracy: 0.6775\n",
        "\n",
        "Shouldn't expect more from the such primitive model"
      ]
    },
    {
      "cell_type": "code",
      "metadata": {
        "id": "_WgHv8wVKxKN",
        "colab_type": "code",
        "colab": {}
      },
      "source": [
        "from keras.models import Sequential\n",
        "from keras.layers import Dense, Flatten\n",
        "from keras.layers import Conv2D, MaxPooling2D\n",
        "\n",
        "model = Sequential()\n",
        "\n",
        "model.add(Conv2D(32, (3,3), activation='relu', input_shape=(32,32, 3)))\n",
        "model.add(Conv2D(32, (3,3), activation='relu')) # New convolution layer\n",
        "model.add(MaxPooling2D(pool_size=(2,2)))\n",
        "\n",
        "model.add(Dropout(0.15)) #Dropout 0.25 -> 0.15\n",
        "\n",
        "model.add(Conv2D(64, (3,3), activation='relu', input_shape=(32,32, 3)))\n",
        "model.add(Conv2D(64, (3,3), activation='relu')) \n",
        "model.add(MaxPooling2D(pool_size=(2,2))) # Additional Conv-Conv-MaxPool pattern with 64 filters\n",
        "\n",
        "model.add(Dropout(0.15))  #One more dropout layer\n",
        "\n",
        "model.add(Flatten())\n",
        "\n",
        "model.add(Dense(512, activation='relu')) #128 -> 512 neurons\n",
        "model.add(Dense(10, activation='softmax'))"
      ],
      "execution_count": 0,
      "outputs": []
    },
    {
      "cell_type": "code",
      "metadata": {
        "id": "jj5-QBsVLYZj",
        "colab_type": "code",
        "colab": {}
      },
      "source": [
        "model.compile(loss='categorical_crossentropy',\n",
        "              optimizer='sgd',\n",
        "              metrics=['accuracy'])"
      ],
      "execution_count": 0,
      "outputs": []
    },
    {
      "cell_type": "code",
      "metadata": {
        "id": "Oz842R-XLdgx",
        "colab_type": "code",
        "colab": {
          "base_uri": "https://localhost:8080/",
          "height": 1000
        },
        "outputId": "95fe93c6-ff94-41e0-f13b-e7f5d1a2f90c"
      },
      "source": [
        "batch_size = 128\n",
        "epochs = 100\n",
        "\n",
        "model.fit(x_train, y_train, batch_size=batch_size, epochs=epochs)"
      ],
      "execution_count": 122,
      "outputs": [
        {
          "output_type": "stream",
          "text": [
            "Epoch 1/100\n",
            "50000/50000 [==============================] - 5s 107us/step - loss: 2.2804 - acc: 0.1438\n",
            "Epoch 2/100\n",
            "50000/50000 [==============================] - 4s 75us/step - loss: 2.0597 - acc: 0.2496\n",
            "Epoch 3/100\n",
            "50000/50000 [==============================] - 4s 75us/step - loss: 1.9080 - acc: 0.3133\n",
            "Epoch 4/100\n",
            "50000/50000 [==============================] - 4s 76us/step - loss: 1.7963 - acc: 0.3559\n",
            "Epoch 5/100\n",
            "50000/50000 [==============================] - 4s 76us/step - loss: 1.7078 - acc: 0.3826\n",
            "Epoch 6/100\n",
            "50000/50000 [==============================] - 4s 77us/step - loss: 1.6466 - acc: 0.4057\n",
            "Epoch 7/100\n",
            "50000/50000 [==============================] - 4s 76us/step - loss: 1.5894 - acc: 0.4268\n",
            "Epoch 8/100\n",
            "50000/50000 [==============================] - 4s 74us/step - loss: 1.5436 - acc: 0.4451\n",
            "Epoch 9/100\n",
            "50000/50000 [==============================] - 4s 76us/step - loss: 1.4844 - acc: 0.4640\n",
            "Epoch 10/100\n",
            "50000/50000 [==============================] - 4s 75us/step - loss: 1.4399 - acc: 0.4827\n",
            "Epoch 11/100\n",
            "50000/50000 [==============================] - 4s 75us/step - loss: 1.3951 - acc: 0.4988\n",
            "Epoch 12/100\n",
            "50000/50000 [==============================] - 4s 75us/step - loss: 1.3591 - acc: 0.5142\n",
            "Epoch 13/100\n",
            "50000/50000 [==============================] - 4s 74us/step - loss: 1.3284 - acc: 0.5263\n",
            "Epoch 14/100\n",
            "50000/50000 [==============================] - 4s 75us/step - loss: 1.2975 - acc: 0.5386\n",
            "Epoch 15/100\n",
            "50000/50000 [==============================] - 4s 76us/step - loss: 1.2730 - acc: 0.5477\n",
            "Epoch 16/100\n",
            "50000/50000 [==============================] - 4s 77us/step - loss: 1.2411 - acc: 0.5595\n",
            "Epoch 17/100\n",
            "50000/50000 [==============================] - 4s 76us/step - loss: 1.2163 - acc: 0.5701\n",
            "Epoch 18/100\n",
            "50000/50000 [==============================] - 4s 77us/step - loss: 1.1899 - acc: 0.5808\n",
            "Epoch 19/100\n",
            "50000/50000 [==============================] - 4s 76us/step - loss: 1.1660 - acc: 0.5894\n",
            "Epoch 20/100\n",
            "50000/50000 [==============================] - 4s 77us/step - loss: 1.1446 - acc: 0.5984\n",
            "Epoch 21/100\n",
            "50000/50000 [==============================] - 4s 76us/step - loss: 1.1207 - acc: 0.6070\n",
            "Epoch 22/100\n",
            "50000/50000 [==============================] - 4s 76us/step - loss: 1.1015 - acc: 0.6132\n",
            "Epoch 23/100\n",
            "50000/50000 [==============================] - 4s 77us/step - loss: 1.0764 - acc: 0.6217\n",
            "Epoch 24/100\n",
            "50000/50000 [==============================] - 4s 77us/step - loss: 1.0566 - acc: 0.6319\n",
            "Epoch 25/100\n",
            "50000/50000 [==============================] - 4s 77us/step - loss: 1.0424 - acc: 0.6360\n",
            "Epoch 26/100\n",
            "50000/50000 [==============================] - 4s 75us/step - loss: 1.0194 - acc: 0.6433\n",
            "Epoch 27/100\n",
            "50000/50000 [==============================] - 4s 77us/step - loss: 1.0025 - acc: 0.6517\n",
            "Epoch 28/100\n",
            "50000/50000 [==============================] - 4s 76us/step - loss: 0.9892 - acc: 0.6556\n",
            "Epoch 29/100\n",
            "50000/50000 [==============================] - 4s 77us/step - loss: 0.9729 - acc: 0.6611\n",
            "Epoch 30/100\n",
            "50000/50000 [==============================] - 4s 75us/step - loss: 0.9520 - acc: 0.6671\n",
            "Epoch 31/100\n",
            "50000/50000 [==============================] - 4s 76us/step - loss: 0.9413 - acc: 0.6732\n",
            "Epoch 32/100\n",
            "50000/50000 [==============================] - 4s 75us/step - loss: 0.9260 - acc: 0.6780\n",
            "Epoch 33/100\n",
            "50000/50000 [==============================] - 4s 76us/step - loss: 0.9112 - acc: 0.6831\n",
            "Epoch 34/100\n",
            "50000/50000 [==============================] - 4s 75us/step - loss: 0.8948 - acc: 0.6908\n",
            "Epoch 35/100\n",
            "50000/50000 [==============================] - 4s 76us/step - loss: 0.8787 - acc: 0.6958\n",
            "Epoch 36/100\n",
            "50000/50000 [==============================] - 4s 75us/step - loss: 0.8671 - acc: 0.6983\n",
            "Epoch 37/100\n",
            "50000/50000 [==============================] - 4s 76us/step - loss: 0.8534 - acc: 0.7026\n",
            "Epoch 38/100\n",
            "50000/50000 [==============================] - 4s 77us/step - loss: 0.8399 - acc: 0.7079\n",
            "Epoch 39/100\n",
            "50000/50000 [==============================] - 4s 77us/step - loss: 0.8251 - acc: 0.7137\n",
            "Epoch 40/100\n",
            "50000/50000 [==============================] - 4s 78us/step - loss: 0.8111 - acc: 0.7170\n",
            "Epoch 41/100\n",
            "50000/50000 [==============================] - 4s 75us/step - loss: 0.8015 - acc: 0.7203\n",
            "Epoch 42/100\n",
            "50000/50000 [==============================] - 4s 76us/step - loss: 0.7835 - acc: 0.7278\n",
            "Epoch 43/100\n",
            "50000/50000 [==============================] - 4s 76us/step - loss: 0.7733 - acc: 0.7300\n",
            "Epoch 44/100\n",
            "50000/50000 [==============================] - 4s 75us/step - loss: 0.7606 - acc: 0.7337\n",
            "Epoch 45/100\n",
            "50000/50000 [==============================] - 4s 75us/step - loss: 0.7497 - acc: 0.7390\n",
            "Epoch 46/100\n",
            "50000/50000 [==============================] - 4s 76us/step - loss: 0.7340 - acc: 0.7448\n",
            "Epoch 47/100\n",
            "50000/50000 [==============================] - 4s 77us/step - loss: 0.7225 - acc: 0.7483\n",
            "Epoch 48/100\n",
            "50000/50000 [==============================] - 4s 76us/step - loss: 0.7091 - acc: 0.7543\n",
            "Epoch 49/100\n",
            "50000/50000 [==============================] - 4s 75us/step - loss: 0.6947 - acc: 0.7577\n",
            "Epoch 50/100\n",
            "50000/50000 [==============================] - 4s 75us/step - loss: 0.6872 - acc: 0.7608\n",
            "Epoch 51/100\n",
            "50000/50000 [==============================] - 4s 77us/step - loss: 0.6707 - acc: 0.7669\n",
            "Epoch 52/100\n",
            "50000/50000 [==============================] - 4s 76us/step - loss: 0.6580 - acc: 0.7709\n",
            "Epoch 53/100\n",
            "50000/50000 [==============================] - 4s 76us/step - loss: 0.6484 - acc: 0.7743\n",
            "Epoch 54/100\n",
            "50000/50000 [==============================] - 4s 76us/step - loss: 0.6367 - acc: 0.7766\n",
            "Epoch 55/100\n",
            "50000/50000 [==============================] - 4s 76us/step - loss: 0.6239 - acc: 0.7823\n",
            "Epoch 56/100\n",
            "50000/50000 [==============================] - 4s 78us/step - loss: 0.6115 - acc: 0.7861\n",
            "Epoch 57/100\n",
            "50000/50000 [==============================] - 4s 76us/step - loss: 0.6039 - acc: 0.7888\n",
            "Epoch 58/100\n",
            "50000/50000 [==============================] - 4s 76us/step - loss: 0.5833 - acc: 0.7958\n",
            "Epoch 59/100\n",
            "50000/50000 [==============================] - 4s 74us/step - loss: 0.5746 - acc: 0.7990\n",
            "Epoch 60/100\n",
            "50000/50000 [==============================] - 4s 76us/step - loss: 0.5666 - acc: 0.8020\n",
            "Epoch 61/100\n",
            "50000/50000 [==============================] - 4s 77us/step - loss: 0.5547 - acc: 0.8063\n",
            "Epoch 62/100\n",
            "50000/50000 [==============================] - 4s 77us/step - loss: 0.5382 - acc: 0.8118\n",
            "Epoch 63/100\n",
            "50000/50000 [==============================] - 4s 77us/step - loss: 0.5316 - acc: 0.8143\n",
            "Epoch 64/100\n",
            "50000/50000 [==============================] - 4s 77us/step - loss: 0.5164 - acc: 0.8198\n",
            "Epoch 65/100\n",
            "50000/50000 [==============================] - 4s 76us/step - loss: 0.5099 - acc: 0.8235\n",
            "Epoch 66/100\n",
            "50000/50000 [==============================] - 4s 76us/step - loss: 0.4974 - acc: 0.8257\n",
            "Epoch 67/100\n",
            "50000/50000 [==============================] - 4s 76us/step - loss: 0.4863 - acc: 0.8287\n",
            "Epoch 68/100\n",
            "50000/50000 [==============================] - 4s 76us/step - loss: 0.4745 - acc: 0.8318\n",
            "Epoch 69/100\n",
            "50000/50000 [==============================] - 4s 75us/step - loss: 0.4644 - acc: 0.8364\n",
            "Epoch 70/100\n",
            "50000/50000 [==============================] - 4s 76us/step - loss: 0.4522 - acc: 0.8424\n",
            "Epoch 71/100\n",
            "50000/50000 [==============================] - 4s 76us/step - loss: 0.4460 - acc: 0.8419\n",
            "Epoch 72/100\n",
            "50000/50000 [==============================] - 4s 77us/step - loss: 0.4323 - acc: 0.8474\n",
            "Epoch 73/100\n",
            "50000/50000 [==============================] - 4s 76us/step - loss: 0.4203 - acc: 0.8520\n",
            "Epoch 74/100\n",
            "50000/50000 [==============================] - 4s 75us/step - loss: 0.4117 - acc: 0.8532\n",
            "Epoch 75/100\n",
            "50000/50000 [==============================] - 4s 76us/step - loss: 0.3998 - acc: 0.8587\n",
            "Epoch 76/100\n",
            "50000/50000 [==============================] - 4s 76us/step - loss: 0.3972 - acc: 0.8602\n",
            "Epoch 77/100\n",
            "50000/50000 [==============================] - 4s 76us/step - loss: 0.3873 - acc: 0.8634\n",
            "Epoch 78/100\n",
            "50000/50000 [==============================] - 4s 75us/step - loss: 0.3720 - acc: 0.8678\n",
            "Epoch 79/100\n",
            "50000/50000 [==============================] - 4s 75us/step - loss: 0.3669 - acc: 0.8688\n",
            "Epoch 80/100\n",
            "50000/50000 [==============================] - 4s 76us/step - loss: 0.3535 - acc: 0.8755\n",
            "Epoch 81/100\n",
            "50000/50000 [==============================] - 4s 76us/step - loss: 0.3467 - acc: 0.8769\n",
            "Epoch 82/100\n",
            "50000/50000 [==============================] - 4s 76us/step - loss: 0.3379 - acc: 0.8789\n",
            "Epoch 83/100\n",
            "50000/50000 [==============================] - 4s 76us/step - loss: 0.3306 - acc: 0.8826\n",
            "Epoch 84/100\n",
            "50000/50000 [==============================] - 4s 77us/step - loss: 0.3241 - acc: 0.8853\n",
            "Epoch 85/100\n",
            "50000/50000 [==============================] - 4s 77us/step - loss: 0.3132 - acc: 0.8876\n",
            "Epoch 86/100\n",
            "50000/50000 [==============================] - 4s 76us/step - loss: 0.3047 - acc: 0.8930\n",
            "Epoch 87/100\n",
            "50000/50000 [==============================] - 4s 77us/step - loss: 0.3000 - acc: 0.8927\n",
            "Epoch 88/100\n",
            "50000/50000 [==============================] - 4s 77us/step - loss: 0.2883 - acc: 0.8973\n",
            "Epoch 89/100\n",
            "50000/50000 [==============================] - 4s 77us/step - loss: 0.2780 - acc: 0.9005\n",
            "Epoch 90/100\n",
            "50000/50000 [==============================] - 4s 76us/step - loss: 0.2742 - acc: 0.9025\n",
            "Epoch 91/100\n",
            "50000/50000 [==============================] - 4s 76us/step - loss: 0.2652 - acc: 0.9058\n",
            "Epoch 92/100\n",
            "50000/50000 [==============================] - 4s 76us/step - loss: 0.2563 - acc: 0.9079\n",
            "Epoch 93/100\n",
            "50000/50000 [==============================] - 4s 75us/step - loss: 0.2531 - acc: 0.9089\n",
            "Epoch 94/100\n",
            "50000/50000 [==============================] - 4s 76us/step - loss: 0.2427 - acc: 0.9127\n",
            "Epoch 95/100\n",
            "50000/50000 [==============================] - 4s 76us/step - loss: 0.2380 - acc: 0.9148\n",
            "Epoch 96/100\n",
            "50000/50000 [==============================] - 4s 77us/step - loss: 0.2248 - acc: 0.9190\n",
            "Epoch 97/100\n",
            "50000/50000 [==============================] - 4s 76us/step - loss: 0.2226 - acc: 0.9199\n",
            "Epoch 98/100\n",
            "50000/50000 [==============================] - 4s 77us/step - loss: 0.2172 - acc: 0.9219\n",
            "Epoch 99/100\n",
            "50000/50000 [==============================] - 4s 77us/step - loss: 0.2118 - acc: 0.9241\n",
            "Epoch 100/100\n",
            "50000/50000 [==============================] - 4s 77us/step - loss: 0.2019 - acc: 0.9275\n"
          ],
          "name": "stdout"
        },
        {
          "output_type": "execute_result",
          "data": {
            "text/plain": [
              "<keras.callbacks.History at 0x7f8758e5b160>"
            ]
          },
          "metadata": {
            "tags": []
          },
          "execution_count": 122
        }
      ]
    },
    {
      "cell_type": "code",
      "metadata": {
        "id": "3j5_B3PcLfRw",
        "colab_type": "code",
        "colab": {
          "base_uri": "https://localhost:8080/",
          "height": 52
        },
        "outputId": "5f4e4b12-9d7d-4d0a-8bf8-ab507d18d74f"
      },
      "source": [
        "eval_ = model.evaluate(x_test, y_test, verbose=0) # Score the model\n",
        "print('Test loss:', eval_[0])\n",
        "print('Test accuracy:', eval_[1])"
      ],
      "execution_count": 123,
      "outputs": [
        {
          "output_type": "stream",
          "text": [
            "Test loss: 1.0367052768707274\n",
            "Test accuracy: 0.7355\n"
          ],
          "name": "stdout"
        }
      ]
    },
    {
      "cell_type": "markdown",
      "metadata": {
        "id": "nkEtGXisPnQE",
        "colab_type": "text"
      },
      "source": [
        "Test loss: 1.0367052768707274\n",
        "Test accuracy: 0.7355\n",
        "\n",
        "There's still work to do..."
      ]
    },
    {
      "cell_type": "markdown",
      "metadata": {
        "id": "21xrlGdwPyXF",
        "colab_type": "text"
      },
      "source": [
        "Some notices:\n",
        "- Dropouts have a drastic impact on a models's performance. Introduced models didn't work completely without them.\n",
        "- Straightforward layer adding doesn't yield better result itself, with any added layer hyperparameter tuning to realize deeper model's potential becomes much more tedious. Sometimes it's much easier to build simpler model rather than tune more complex."
      ]
    },
    {
      "cell_type": "code",
      "metadata": {
        "id": "JSLYYhe0PqvO",
        "colab_type": "code",
        "colab": {}
      },
      "source": [
        ""
      ],
      "execution_count": 0,
      "outputs": []
    }
  ]
}