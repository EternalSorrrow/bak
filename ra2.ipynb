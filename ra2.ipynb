{
  "nbformat": 4,
  "nbformat_minor": 0,
  "metadata": {
    "colab": {
      "name": "ra2.ipynb",
      "provenance": [],
      "collapsed_sections": [],
      "machine_shape": "hm",
      "include_colab_link": true
    },
    "kernelspec": {
      "name": "python3",
      "display_name": "Python 3"
    },
    "accelerator": "TPU"
  },
  "cells": [
    {
      "cell_type": "markdown",
      "metadata": {
        "id": "view-in-github",
        "colab_type": "text"
      },
      "source": [
        "<a href=\"https://colab.research.google.com/github/EternalSorrrow/bak/blob/master/ra2.ipynb\" target=\"_parent\"><img src=\"https://colab.research.google.com/assets/colab-badge.svg\" alt=\"Open In Colab\"/></a>"
      ]
    },
    {
      "cell_type": "markdown",
      "metadata": {
        "id": "5Q_USY0q3elC",
        "colab_type": "text"
      },
      "source": [
        "MURA Pre-train"
      ]
    },
    {
      "cell_type": "code",
      "metadata": {
        "id": "4PDxmp00SxDJ",
        "colab_type": "code",
        "outputId": "175f9249-1e8c-41cb-e8aa-2b4b36ee5efe",
        "colab": {
          "base_uri": "https://localhost:8080/",
          "height": 35
        }
      },
      "source": [
        "from google.colab import drive\n",
        "drive.mount('/content/drive')"
      ],
      "execution_count": 178,
      "outputs": [
        {
          "output_type": "stream",
          "text": [
            "Drive already mounted at /content/drive; to attempt to forcibly remount, call drive.mount(\"/content/drive\", force_remount=True).\n"
          ],
          "name": "stdout"
        }
      ]
    },
    {
      "cell_type": "code",
      "metadata": {
        "id": "XolMg-8-rTyl",
        "colab_type": "code",
        "colab": {}
      },
      "source": [
        "mura_path = 'drive/My Drive/Work/ML/MURA/MURA-v1.1/'"
      ],
      "execution_count": 0,
      "outputs": []
    },
    {
      "cell_type": "code",
      "metadata": {
        "id": "5Rwj1Bj_tn2E",
        "colab_type": "code",
        "outputId": "f5e49c8f-bc3e-446b-9e2b-1c9686af1104",
        "colab": {
          "base_uri": "https://localhost:8080/",
          "height": 550
        }
      },
      "source": [
        "!ls 'drive/My Drive/Work/ML/MURA/MURA-v1.1' ; echo '' ; head -5 'drive/My Drive/Work/ML/MURA/MURA-v1.1/train_image_paths.csv' ; echo ''\n",
        "!head -5 'drive/My Drive/Work/ML/MURA/MURA-v1.1/train_labeled_studies.csv'; echo '' ; head -5 'drive/My Drive/Work/ML/MURA/MURA-v1.1/valid_image_paths.csv'\n",
        "!echo '' ; head -240 'drive/My Drive/Work/ML/MURA/MURA-v1.1/valid_labeled_studies.csv' | tail -6\n",
        "#!find . -name \\*.png | wc -l\n",
        "!cat  'drive/My Drive/Work/ML/MURA/MURA-v1.1/train_image_paths.csv' | wc -l\n",
        "!cat  'drive/My Drive/Work/ML/MURA/MURA-v1.1/valid_image_paths.csv' | wc -l"
      ],
      "execution_count": 51,
      "outputs": [
        {
          "output_type": "stream",
          "text": [
            "train\t\t       train_labeled_studies.csv  valid_image_paths.csv\n",
            "train_image_paths.csv  valid\t\t\t  valid_labeled_studies.csv\n",
            "\n",
            "MURA-v1.1/train/XR_SHOULDER/patient00001/study1_positive/image1.png\n",
            "MURA-v1.1/train/XR_SHOULDER/patient00001/study1_positive/image2.png\n",
            "MURA-v1.1/train/XR_SHOULDER/patient00001/study1_positive/image3.png\n",
            "MURA-v1.1/train/XR_SHOULDER/patient00002/study1_positive/image1.png\n",
            "MURA-v1.1/train/XR_SHOULDER/patient00002/study1_positive/image2.png\n",
            "\n",
            "MURA-v1.1/train/XR_SHOULDER/patient00001/study1_positive/,1\n",
            "MURA-v1.1/train/XR_SHOULDER/patient00002/study1_positive/,1\n",
            "MURA-v1.1/train/XR_SHOULDER/patient00003/study1_positive/,1\n",
            "MURA-v1.1/train/XR_SHOULDER/patient00004/study1_positive/,1\n",
            "MURA-v1.1/train/XR_SHOULDER/patient00005/study1_positive/,1\n",
            "\n",
            "MURA-v1.1/valid/XR_WRIST/patient11185/study1_positive/image1.png\n",
            "MURA-v1.1/valid/XR_WRIST/patient11185/study1_positive/image2.png\n",
            "MURA-v1.1/valid/XR_WRIST/patient11185/study1_positive/image3.png\n",
            "MURA-v1.1/valid/XR_WRIST/patient11185/study1_positive/image4.png\n",
            "MURA-v1.1/valid/XR_WRIST/patient11186/study1_positive/image1.png\n",
            "\n",
            "MURA-v1.1/valid/XR_WRIST/patient11389/study1_negative/,0\n",
            "MURA-v1.1/valid/XR_WRIST/patient11390/study1_negative/,0\n",
            "MURA-v1.1/valid/XR_WRIST/patient11391/study1_negative/,0\n",
            "MURA-v1.1/valid/XR_FOREARM/patient11392/study1_positive/,1\n",
            "MURA-v1.1/valid/XR_FOREARM/patient11393/study1_positive/,1\n",
            "MURA-v1.1/valid/XR_FOREARM/patient11394/study1_positive/,1\n",
            "36808\n",
            "3197\n"
          ],
          "name": "stdout"
        }
      ]
    },
    {
      "cell_type": "code",
      "metadata": {
        "id": "2J-KX4-H6dPf",
        "colab_type": "code",
        "outputId": "f0fe5731-9452-436b-ebf6-501a1a2d246e",
        "colab": {
          "base_uri": "https://localhost:8080/",
          "height": 146
        }
      },
      "source": [
        "study_types = ['XR_ELBOW', 'XR_FINGER', 'XR_FOREARM', 'XR_HAND', 'XR_HUMERUS', 'XR_SHOULDER', 'XR_WRIST']\n",
        "study_type_codes = list(range(len(study_types)))\n",
        "study_type_codes = dict(zip(study_types, study_type_codes))\n",
        "study_type_codes"
      ],
      "execution_count": 52,
      "outputs": [
        {
          "output_type": "execute_result",
          "data": {
            "text/plain": [
              "{'XR_ELBOW': 0,\n",
              " 'XR_FINGER': 1,\n",
              " 'XR_FOREARM': 2,\n",
              " 'XR_HAND': 3,\n",
              " 'XR_HUMERUS': 4,\n",
              " 'XR_SHOULDER': 5,\n",
              " 'XR_WRIST': 6}"
            ]
          },
          "metadata": {
            "tags": []
          },
          "execution_count": 52
        }
      ]
    },
    {
      "cell_type": "code",
      "metadata": {
        "id": "DEnqfN817DqB",
        "colab_type": "code",
        "outputId": "36d94f28-52e2-41ab-ad4e-146314eb397f",
        "colab": {
          "base_uri": "https://localhost:8080/",
          "height": 109
        }
      },
      "source": [
        "import re\n",
        "\n",
        "def encode_study_type(string):\n",
        "  return study_type_codes[string]\n",
        "\n",
        "def decode_study_type(num):\n",
        "  for study_type, code in study_type_codes.items():\n",
        "     if code == num:\n",
        "       return study_type \n",
        "\n",
        "def extract_patient_id(string):\n",
        "  return int(re.compile(r'patient(\\d+)').findall(string)[0])\n",
        "\n",
        "def extract_study_type(string):\n",
        "  for study_type, code in study_type_codes.items():\n",
        "    result = re.compile(study_type).findall(string)\n",
        "    if result:\n",
        "      return code\n",
        "\n",
        "def extract_study_id(string):\n",
        "  return int(re.compile(r'study(\\d+)_').findall(string)[0])\n",
        "\n",
        "def parse_study_desc(string):\n",
        "  return (extract_study_type(string), extract_patient_id(string), extract_study_id(string))\n",
        "\n",
        "def parse_label(string):\n",
        "  return int(re.compile(r',(\\d)').findall(string)[0])\n",
        "\n",
        "with open(mura_path + 'valid_labeled_studies.csv', 'r') as f:\n",
        "  line = f.readline()\n",
        "  desc = parse_study_desc(line)\n",
        "  print(line)\n",
        "  print(desc)\n",
        "  print(parse_label(line))\n",
        "  print(decode_study_type(desc[0]))"
      ],
      "execution_count": 53,
      "outputs": [
        {
          "output_type": "stream",
          "text": [
            "MURA-v1.1/valid/XR_WRIST/patient11185/study1_positive/,1\n",
            "\n",
            "(6, 11185, 1)\n",
            "1\n",
            "XR_WRIST\n"
          ],
          "name": "stdout"
        }
      ]
    },
    {
      "cell_type": "code",
      "metadata": {
        "id": "ve-HT24RAczC",
        "colab_type": "code",
        "colab": {}
      },
      "source": [
        "import pandas as pd\n",
        "import os\n",
        "\n",
        "def count_images(filename):\n",
        "  counter = dict()\n",
        "  \n",
        "  with open(mura_path + filename, 'r') as file:\n",
        "    lines = file.read().replace('MURA-v1.1/', '').split('\\n')[:-1]\n",
        "  \n",
        "  for line in lines:\n",
        "    desc = parse_study_desc(line)\n",
        "    if desc not in counter.keys():\n",
        "      counter[desc] = 1\n",
        "    else:\n",
        "      counter[desc] += 1\n",
        "  \n",
        "  return counter\n",
        "\n",
        "def parse_study_metadata(filename, file_counts, verbose = False):\n",
        "  metadata = pd.DataFrame(columns=['Category', 'Patient', 'Study', 'Images', 'Label'])\n",
        "\n",
        "  with open(mura_path + filename, 'r') as file:\n",
        "    lines = file.read().replace('MURA-v1.1/', '').split('\\n')[:-1]\n",
        "  \n",
        "  linecount = len(lines)\n",
        "\n",
        "  for i, line in enumerate(lines):\n",
        "    category, patient, study = parse_study_desc(line)\n",
        "    label = parse_label(line)\n",
        "    line = line.split(',')[0]\n",
        "    images = file_counts[(category, patient, study)]\n",
        "    metadata.loc[i] = [category, patient, study, images, label]\n",
        "\n",
        "    if (i + 1) % 1000 == 0:\n",
        "      print('Read', i+1, 'items from', linecount)\n",
        "\n",
        "  return metadata"
      ],
      "execution_count": 0,
      "outputs": []
    },
    {
      "cell_type": "code",
      "metadata": {
        "id": "BfRaN6fw7518",
        "colab_type": "code",
        "outputId": "4ca76c94-c91b-49aa-f346-d0b59692e2c7",
        "colab": {
          "base_uri": "https://localhost:8080/",
          "height": 445
        }
      },
      "source": [
        "train_metadata = parse_study_metadata('train_labeled_studies.csv', count_images('train_image_paths.csv'), True)\n",
        "train_metadata.head()"
      ],
      "execution_count": 55,
      "outputs": [
        {
          "output_type": "stream",
          "text": [
            "Read 1000 items from 13457\n",
            "Read 2000 items from 13457\n",
            "Read 3000 items from 13457\n",
            "Read 4000 items from 13457\n",
            "Read 5000 items from 13457\n",
            "Read 6000 items from 13457\n",
            "Read 7000 items from 13457\n",
            "Read 8000 items from 13457\n",
            "Read 9000 items from 13457\n",
            "Read 10000 items from 13457\n",
            "Read 11000 items from 13457\n",
            "Read 12000 items from 13457\n",
            "Read 13000 items from 13457\n"
          ],
          "name": "stdout"
        },
        {
          "output_type": "execute_result",
          "data": {
            "text/html": [
              "<div>\n",
              "<style scoped>\n",
              "    .dataframe tbody tr th:only-of-type {\n",
              "        vertical-align: middle;\n",
              "    }\n",
              "\n",
              "    .dataframe tbody tr th {\n",
              "        vertical-align: top;\n",
              "    }\n",
              "\n",
              "    .dataframe thead th {\n",
              "        text-align: right;\n",
              "    }\n",
              "</style>\n",
              "<table border=\"1\" class=\"dataframe\">\n",
              "  <thead>\n",
              "    <tr style=\"text-align: right;\">\n",
              "      <th></th>\n",
              "      <th>Category</th>\n",
              "      <th>Patient</th>\n",
              "      <th>Study</th>\n",
              "      <th>Images</th>\n",
              "      <th>Label</th>\n",
              "    </tr>\n",
              "  </thead>\n",
              "  <tbody>\n",
              "    <tr>\n",
              "      <th>0</th>\n",
              "      <td>5</td>\n",
              "      <td>1</td>\n",
              "      <td>1</td>\n",
              "      <td>3</td>\n",
              "      <td>1</td>\n",
              "    </tr>\n",
              "    <tr>\n",
              "      <th>1</th>\n",
              "      <td>5</td>\n",
              "      <td>2</td>\n",
              "      <td>1</td>\n",
              "      <td>3</td>\n",
              "      <td>1</td>\n",
              "    </tr>\n",
              "    <tr>\n",
              "      <th>2</th>\n",
              "      <td>5</td>\n",
              "      <td>3</td>\n",
              "      <td>1</td>\n",
              "      <td>3</td>\n",
              "      <td>1</td>\n",
              "    </tr>\n",
              "    <tr>\n",
              "      <th>3</th>\n",
              "      <td>5</td>\n",
              "      <td>4</td>\n",
              "      <td>1</td>\n",
              "      <td>4</td>\n",
              "      <td>1</td>\n",
              "    </tr>\n",
              "    <tr>\n",
              "      <th>4</th>\n",
              "      <td>5</td>\n",
              "      <td>5</td>\n",
              "      <td>1</td>\n",
              "      <td>1</td>\n",
              "      <td>1</td>\n",
              "    </tr>\n",
              "  </tbody>\n",
              "</table>\n",
              "</div>"
            ],
            "text/plain": [
              "  Category Patient Study Images Label\n",
              "0        5       1     1      3     1\n",
              "1        5       2     1      3     1\n",
              "2        5       3     1      3     1\n",
              "3        5       4     1      4     1\n",
              "4        5       5     1      1     1"
            ]
          },
          "metadata": {
            "tags": []
          },
          "execution_count": 55
        }
      ]
    },
    {
      "cell_type": "code",
      "metadata": {
        "id": "m5lp48mTAKIQ",
        "colab_type": "code",
        "outputId": "d912498b-58f0-49cc-fd93-479acc893887",
        "colab": {
          "base_uri": "https://localhost:8080/",
          "height": 225
        }
      },
      "source": [
        "val_metadata = parse_study_metadata('valid_labeled_studies.csv', count_images('valid_image_paths.csv'), True)\n",
        "val_metadata.head()"
      ],
      "execution_count": 56,
      "outputs": [
        {
          "output_type": "stream",
          "text": [
            "Read 1000 items from 1199\n"
          ],
          "name": "stdout"
        },
        {
          "output_type": "execute_result",
          "data": {
            "text/html": [
              "<div>\n",
              "<style scoped>\n",
              "    .dataframe tbody tr th:only-of-type {\n",
              "        vertical-align: middle;\n",
              "    }\n",
              "\n",
              "    .dataframe tbody tr th {\n",
              "        vertical-align: top;\n",
              "    }\n",
              "\n",
              "    .dataframe thead th {\n",
              "        text-align: right;\n",
              "    }\n",
              "</style>\n",
              "<table border=\"1\" class=\"dataframe\">\n",
              "  <thead>\n",
              "    <tr style=\"text-align: right;\">\n",
              "      <th></th>\n",
              "      <th>Category</th>\n",
              "      <th>Patient</th>\n",
              "      <th>Study</th>\n",
              "      <th>Images</th>\n",
              "      <th>Label</th>\n",
              "    </tr>\n",
              "  </thead>\n",
              "  <tbody>\n",
              "    <tr>\n",
              "      <th>0</th>\n",
              "      <td>6</td>\n",
              "      <td>11185</td>\n",
              "      <td>1</td>\n",
              "      <td>4</td>\n",
              "      <td>1</td>\n",
              "    </tr>\n",
              "    <tr>\n",
              "      <th>1</th>\n",
              "      <td>6</td>\n",
              "      <td>11186</td>\n",
              "      <td>1</td>\n",
              "      <td>2</td>\n",
              "      <td>1</td>\n",
              "    </tr>\n",
              "    <tr>\n",
              "      <th>2</th>\n",
              "      <td>6</td>\n",
              "      <td>11186</td>\n",
              "      <td>2</td>\n",
              "      <td>3</td>\n",
              "      <td>1</td>\n",
              "    </tr>\n",
              "    <tr>\n",
              "      <th>3</th>\n",
              "      <td>6</td>\n",
              "      <td>11186</td>\n",
              "      <td>3</td>\n",
              "      <td>3</td>\n",
              "      <td>1</td>\n",
              "    </tr>\n",
              "    <tr>\n",
              "      <th>4</th>\n",
              "      <td>6</td>\n",
              "      <td>11187</td>\n",
              "      <td>1</td>\n",
              "      <td>1</td>\n",
              "      <td>1</td>\n",
              "    </tr>\n",
              "  </tbody>\n",
              "</table>\n",
              "</div>"
            ],
            "text/plain": [
              "  Category Patient Study Images Label\n",
              "0        6   11185     1      4     1\n",
              "1        6   11186     1      2     1\n",
              "2        6   11186     2      3     1\n",
              "3        6   11186     3      3     1\n",
              "4        6   11187     1      1     1"
            ]
          },
          "metadata": {
            "tags": []
          },
          "execution_count": 56
        }
      ]
    },
    {
      "cell_type": "code",
      "metadata": {
        "id": "H9sWNA5afmG2",
        "colab_type": "code",
        "colab": {}
      },
      "source": [
        "import matplotlib.pyplot as plt\n",
        "import numpy as np\n",
        "\n",
        "studies_train = train_metadata.groupby(by=['Category']).count()\n",
        "studies_val = val_metadata.groupby(by=['Category']).count()\n",
        "\n",
        "patients_train = train_metadata.groupby(by=['Category', 'Patient']).count().groupby(by=['Category']).count()\n",
        "patients_val = val_metadata.groupby(by=['Category', 'Patient']).count().groupby(by=['Category']).count()\n",
        "\n",
        "images_train = train_metadata.groupby(by=['Category'])['Images'].sum()\n",
        "images_val = val_metadata.groupby(by=['Category'])['Images'].sum()\n",
        "\n",
        "labels_studies_train = train_metadata.groupby(by=['Label']).count()\n",
        "labels_images_train = train_metadata.groupby(by=['Label'])['Images'].sum()\n",
        "\n",
        "labels_studies_val = val_metadata.groupby(by=['Label']).count()\n",
        "labels_images_val = val_metadata.groupby(by=['Label'])['Images'].sum()\n",
        "\n",
        "train_labels_per_study = dict()\n",
        "val_labels_per_study = dict()\n",
        "\n",
        "train_labels_per_study_imgs = dict()\n",
        "val_labels_per_study_imgs = dict()\n",
        "\n",
        "for _, study_code in study_type_codes.items():\n",
        "  tr = train_metadata.loc[train_metadata['Category'] == study_code].groupby(by=['Label'])['Study'].count()\n",
        "  vl = val_metadata.loc[val_metadata['Category'] == study_code].groupby(by=['Label'])['Study'].count()\n",
        "\n",
        "  tr_im = train_metadata.loc[train_metadata['Category'] == study_code].groupby(by=['Label'])['Images'].sum()\n",
        "  vl_im = val_metadata.loc[val_metadata['Category'] == study_code].groupby(by=['Label'])['Images'].sum()\n",
        "  \n",
        "  train_labels_per_study[study_code] = tr\n",
        "  val_labels_per_study[study_code] = vl\n",
        "\n",
        "  train_labels_per_study_imgs[study_code] = tr_im\n",
        "  val_labels_per_study_imgs[study_code] = vl_im"
      ],
      "execution_count": 0,
      "outputs": []
    },
    {
      "cell_type": "code",
      "metadata": {
        "id": "UBmRdVi2_-_H",
        "colab_type": "code",
        "outputId": "9be804a2-af62-4fb7-951f-d947e9aeaa78",
        "colab": {
          "base_uri": "https://localhost:8080/",
          "height": 518
        }
      },
      "source": [
        "fig, ax = plt.subplots(figsize=(24, 8), ncols=3)\n",
        "\n",
        "for i, phase in enumerate([studies_train, studies_val]):\n",
        "    counts = phase[['Study']].values.ravel()\n",
        "    m = max(counts)\n",
        "    for i, v in enumerate(counts):\n",
        "      if v==m: ax[0].text(i-0.1, v+3, str(v))\n",
        "      else: ax[0].text(i-0.1, v + 20, str(v))\n",
        "    x_pos = np.arange(len(study_types))\n",
        "    ax[0].bar(x_pos, counts, alpha=0.5)\n",
        "    ax[0].set_xticks(x_pos)\n",
        "    ax[0].set_xticklabels(study_types)\n",
        "\n",
        "for i, phase in enumerate([patients_train, patients_val]):\n",
        "    counts = phase[['Study']].values.ravel()\n",
        "    m = max(counts)\n",
        "    for i, v in enumerate(counts):\n",
        "      if v==m: ax[1].text(i-0.1, v+3, str(v))\n",
        "      else: ax[1].text(i-0.1, v + 20, str(v))\n",
        "    x_pos = np.arange(len(study_types))\n",
        "    ax[1].bar(x_pos, counts, alpha=0.5)\n",
        "    ax[1].set_xticks(x_pos)\n",
        "    ax[1].set_xticklabels(study_types)\n",
        "\n",
        "for i, phase in enumerate([images_train, images_val]):\n",
        "    counts = phase.values.ravel()\n",
        "    m = max(counts)\n",
        "    for i, v in enumerate(counts):\n",
        "      if v==m: ax[2].text(i-0.1, v+3, str(v))\n",
        "      else: ax[2].text(i-0.1, v + 20, str(v))\n",
        "    x_pos = np.arange(len(study_types))\n",
        "    ax[2].bar(x_pos, counts, alpha=0.5)\n",
        "    ax[2].set_xticks(x_pos)\n",
        "    ax[2].set_xticklabels(study_types)\n",
        "\n",
        "ax[0].set_xlabel('Study types')\n",
        "ax[0].set_ylabel('Number of studies')\n",
        "ax[0].legend(['train', 'valid'])\n",
        "\n",
        "ax[1].set_xlabel('Study types')\n",
        "ax[1].set_ylabel('Number of patients')\n",
        "ax[1].legend(['train', 'valid'])\n",
        "\n",
        "ax[2].set_xlabel('Study types')\n",
        "ax[2].set_ylabel('Number of images')\n",
        "ax[2].legend(['train', 'valid'])\n",
        "\n",
        "plt.show()"
      ],
      "execution_count": 58,
      "outputs": [
        {
          "output_type": "display_data",
          "data": {
            "image/png": "[encoded data removed]",
            "text/plain": [
              "<Figure size 1728x576 with 3 Axes>"
            ]
          },
          "metadata": {
            "tags": []
          }
        }
      ]
    },
    {
      "cell_type": "code",
      "metadata": {
        "id": "OECqKwDac7WK",
        "colab_type": "code",
        "outputId": "a728411b-5f4d-4a83-8d99-2a1271ceeef8",
        "colab": {
          "base_uri": "https://localhost:8080/",
          "height": 409
        }
      },
      "source": [
        "fig, ax = plt.subplots(figsize=(6 * len(study_types), 6), ncols=len(study_types))\n",
        "label_values = ['Normal', 'Abnormal']\n",
        "\n",
        "for y in range(len(study_types)):\n",
        "    for i, phase in enumerate([train_labels_per_study[y], val_labels_per_study[y]]):\n",
        "      counts = phase.values.ravel()\n",
        "      m = max(counts)\n",
        "      for i, v in enumerate(counts):\n",
        "        if v==m: ax[y].text(i-0.1, v+3, str(v))\n",
        "        else: ax[y].text(i-0.1, v + 20, str(v))\n",
        "      x_pos = np.arange(2)\n",
        "\n",
        "      ax[y].bar(x_pos, counts, alpha=0.5)\n",
        "      ax[y].set_xticks(x_pos)\n",
        "      ax[y].set_xticklabels(label_values)\n",
        "\n",
        "      ax[y].set_xlabel(study_types[y] + ' labels')\n",
        "      ax[y].set_ylabel('Number of studies')\n",
        "      ax[y].legend(['train', 'valid'])\n"
      ],
      "execution_count": 59,
      "outputs": [
        {
          "output_type": "display_data",
          "data": {
            "image/png": "[encoded data removed]",
            "text/plain": [
              "<Figure size 3024x432 with 7 Axes>"
            ]
          },
          "metadata": {
            "tags": []
          }
        }
      ]
    },
    {
      "cell_type": "code",
      "metadata": {
        "id": "5uR2xZ8edSQe",
        "colab_type": "code",
        "outputId": "eaaa16e6-eb1d-477e-be6f-63e19db420f0",
        "colab": {
          "base_uri": "https://localhost:8080/",
          "height": 410
        }
      },
      "source": [
        "fig, ax = plt.subplots(figsize=(6 * len(study_types), 6), ncols=len(study_types))\n",
        "label_values = ['Normal', 'Abnormal']\n",
        "\n",
        "for y in range(len(study_types)):\n",
        "    for i, phase in enumerate([train_labels_per_study_imgs[y], val_labels_per_study_imgs[y]]):\n",
        "      counts = phase.values.ravel()\n",
        "      m = max(counts)\n",
        "      for i, v in enumerate(counts):\n",
        "        if v==m: ax[y].text(i-0.1, v+3, str(v))\n",
        "        else: ax[y].text(i-0.1, v + 20, str(v))\n",
        "      x_pos = np.arange(2)\n",
        "\n",
        "      ax[y].bar(x_pos, counts, alpha=0.5)\n",
        "      ax[y].set_xticks(x_pos)\n",
        "      ax[y].set_xticklabels(label_values)\n",
        "\n",
        "      ax[y].set_xlabel(study_types[y] + ' labels')\n",
        "      ax[y].set_ylabel('Number of images')\n",
        "      ax[y].legend(['train', 'valid'])\n"
      ],
      "execution_count": 60,
      "outputs": [
        {
          "output_type": "display_data",
          "data": {
            "image/png": "[encoded data removed]",
            "text/plain": [
              "<Figure size 3024x432 with 7 Axes>"
            ]
          },
          "metadata": {
            "tags": []
          }
        }
      ]
    },
    {
      "cell_type": "code",
      "metadata": {
        "id": "Mnx0ibR8IF0L",
        "colab_type": "code",
        "colab": {}
      },
      "source": [
        "input_size = (320, 320)\n",
        "n_classes = 2"
      ],
      "execution_count": 0,
      "outputs": []
    },
    {
      "cell_type": "code",
      "metadata": {
        "id": "LRDQz72hRwD8",
        "colab_type": "code",
        "outputId": "4949ee54-f92b-45ac-d32f-5efae0a47028",
        "colab": {
          "base_uri": "https://localhost:8080/",
          "height": 35
        }
      },
      "source": [
        "train_paths, val_paths = [], []\n",
        "\n",
        "with open(mura_path + 'train_image_paths.csv', 'r') as file:\n",
        "  train_paths = file.read().replace('MURA-v1.1/', '').split('\\n')[:-1]\n",
        "\n",
        "with open(mura_path + 'valid_image_paths.csv', 'r') as file:\n",
        "  val_paths = file.read().replace('MURA-v1.1/', '').split('\\n')[:-1]\n",
        "\n",
        "print(len(train_paths), len(val_paths))"
      ],
      "execution_count": 62,
      "outputs": [
        {
          "output_type": "stream",
          "text": [
            "36808 3197\n"
          ],
          "name": "stdout"
        }
      ]
    },
    {
      "cell_type": "code",
      "metadata": {
        "id": "v0aWFciaTouM",
        "colab_type": "code",
        "outputId": "e0c7a8de-4108-4ee0-96ec-99c3a9b4b314",
        "colab": {
          "base_uri": "https://localhost:8080/",
          "height": 54
        }
      },
      "source": [
        "def separate_paths(paths):  \n",
        "  sep_paths = dict()\n",
        "  for study_type in study_types:\n",
        "    sep_paths[study_type] = []\n",
        "\n",
        "  for path in paths:\n",
        "    for study_type in study_types:\n",
        "      if study_type in path:\n",
        "        sep_paths[study_type].append(path)\n",
        "\n",
        "  return sep_paths\n",
        "\n",
        "train_paths = separate_paths(train_paths)\n",
        "val_paths = separate_paths(val_paths)\n",
        "\n",
        "print([len(array) for key, array in train_paths.items()])\n",
        "print([len(array) for key, array in val_paths.items()])"
      ],
      "execution_count": 63,
      "outputs": [
        {
          "output_type": "stream",
          "text": [
            "[4931, 5106, 1825, 5543, 1272, 8379, 9752]\n",
            "[465, 461, 301, 460, 288, 563, 659]\n"
          ],
          "name": "stdout"
        }
      ]
    },
    {
      "cell_type": "code",
      "metadata": {
        "id": "6ffNfFMrsCVE",
        "colab_type": "code",
        "colab": {
          "base_uri": "https://localhost:8080/",
          "height": 54
        },
        "outputId": "d4214bf6-0eb4-4c78-8b72-029741ca37db"
      },
      "source": [
        "train_label_paths, val_label_paths = [], []\n",
        "\n",
        "with open(mura_path + 'train_labeled_studies.csv', 'r') as file:\n",
        "  train_label_paths = file.read().split('\\n')[:-1]\n",
        "\n",
        "with open(mura_path + 'valid_labeled_studies.csv', 'r') as file:\n",
        "  val_label_paths = file.read().split('\\n')[:-1]\n",
        "\n",
        "train_label_paths = separate_paths(train_label_paths)\n",
        "val_label_paths = separate_paths(val_label_paths)\n",
        "\n",
        "print([len(array) for key, array in train_label_paths.items()])\n",
        "print([len(array) for key, array in val_label_paths.items()])"
      ],
      "execution_count": 71,
      "outputs": [
        {
          "output_type": "stream",
          "text": [
            "[1754, 1935, 877, 2018, 592, 2821, 3460]\n",
            "[158, 175, 133, 167, 135, 194, 237]\n"
          ],
          "name": "stdout"
        }
      ]
    },
    {
      "cell_type": "code",
      "metadata": {
        "id": "P6f2A7VIqqU8",
        "colab_type": "code",
        "colab": {
          "base_uri": "https://localhost:8080/",
          "height": 54
        },
        "outputId": "d4e2240f-36f9-4be2-b23b-1e031657398e"
      },
      "source": [
        "def extract_labels(paths):\n",
        "  return list(map(parse_label, paths))\n",
        "\n",
        "def extract_descs(paths):\n",
        "  return list(map(parse_study_desc, paths))\n",
        "\n",
        "def get_labels_dict(path_dict):\n",
        "  labels_dict = dict()\n",
        "  for study_type in study_types:\n",
        "    labels_dict[study_type] = dict()\n",
        "\n",
        "  for study_type, paths in path_dict.items():\n",
        "    labels_dict[study_type] = dict(list(zip(extract_descs(paths), extract_labels(paths))))\n",
        "  return labels_dict\n",
        "\n",
        "train_labels = get_labels_dict(train_label_paths)\n",
        "val_labels = get_labels_dict(val_label_paths)\n",
        "\n",
        "print([len(array) for key, array in train_labels.items()])\n",
        "print([len(array) for key, array in val_labels.items()])"
      ],
      "execution_count": 87,
      "outputs": [
        {
          "output_type": "stream",
          "text": [
            "[1754, 1935, 877, 2018, 592, 2821, 3460]\n",
            "[158, 175, 133, 167, 135, 194, 237]\n"
          ],
          "name": "stdout"
        }
      ]
    },
    {
      "cell_type": "code",
      "metadata": {
        "id": "NL2atKeEOrp0",
        "colab_type": "code",
        "colab": {}
      },
      "source": [
        "import cv2\n",
        "\n",
        "def read_images(paths, image_size=input_size, mono=False, verb_step = 200, read_first=-1):\n",
        "  interpolation = cv2.INTER_AREA\n",
        "  imgs = []\n",
        "\n",
        "  print('Starting reading...')\n",
        "  if read_first > 0:\n",
        "    paths = paths[:read_first]\n",
        "\n",
        "  for i, path in enumerate(paths):\n",
        "    img = cv2.imread(mura_path + path)\n",
        "    if img is None:\n",
        "      print('None image on path:', mura_path + path)\n",
        "    \n",
        "    else:\n",
        "      if mono:\n",
        "        img = cv2.cvtColor(img, cv2.COLOR_BGR2GRAY)\n",
        "      img = cv2.resize(img, dsize=image_size, interpolation=interpolation)\n",
        "      desc = parse_study_desc(path)\n",
        "      imgs.append((desc, img))\n",
        "    \n",
        "    if (i + 1) % verb_step == 0:\n",
        "      print('Read', i, 'images from', len(paths))\n",
        "  \n",
        "  return imgs\n"
      ],
      "execution_count": 0,
      "outputs": []
    },
    {
      "cell_type": "code",
      "metadata": {
        "id": "F6mdzmcPGkNY",
        "colab_type": "code",
        "colab": {}
      },
      "source": [
        "def read_category_data(category, read_first=-1):\n",
        "  train_raw = read_images(train_paths[category], read_first=read_first)\n",
        "  valid_raw = read_images(val_paths[category], read_first=read_first)\n",
        "\n",
        "  t_imgs = np.array(list(map(lambda x: x[1], train_raw)))\n",
        "  t_labels = np.array(list(map(lambda x: train_labels[category][x[0]], train_raw)))\n",
        "\n",
        "  v_imgs = np.array(list(map(lambda x: x[1], valid_raw)))\n",
        "  v_labels = np.array(list(map(lambda x: val_labels[category][x[0]], valid_raw)))\n",
        "\n",
        "  return t_imgs, t_labels, v_imgs, v_labels"
      ],
      "execution_count": 0,
      "outputs": []
    },
    {
      "cell_type": "code",
      "metadata": {
        "id": "ybcwXi-5zbch",
        "colab_type": "code",
        "colab": {}
      },
      "source": [
        "import numpy as np\n",
        "import h5py\n",
        "\n",
        "export_folder = 'drive/My Drive/Work/ML/RA2/'\n",
        "\n",
        "def export_to_hdf5(train_data, train_labels, valid_data, valid_labels, output_filename, data_order='tf'):\n",
        "  #data_order = 'th' for Theano, 'tf' for Tensorflow\n",
        "  # check the order of data and chose proper data shape to save images\n",
        "\n",
        "  if data_order == 'th':\n",
        "      train_shape = (train_data.shape[0], train_data.shape[3], train_data.shape[1], train_data.shape[2])\n",
        "      val_shape = (valid_data.shape[0], valid_data.shape[3], valid_data.shape[1], valid_data.shape[2])\n",
        "  elif data_order == 'tf':\n",
        "      train_shape = (train_data.shape)\n",
        "      val_shape = (valid_data.shape)\n",
        "\n",
        "  # open a hdf5 file and create earrays\n",
        "  with h5py.File(output_filename+'.hdf5', mode='w') as hdf5_file:\n",
        "    \n",
        "    hdf5_file.create_dataset(\"train_img\", train_shape, np.uint8)\n",
        "    hdf5_file.create_dataset(\"val_img\", val_shape, np.uint8)\n",
        "    hdf5_file.create_dataset(\"train_labels\", (len(train_labels),), np.int8)\n",
        "    hdf5_file.create_dataset(\"val_labels\", (len(valid_labels),), np.int8)\n",
        "\n",
        "\n",
        "    hdf5_file[\"train_labels\"][...] = train_labels\n",
        "    hdf5_file[\"val_labels\"][...] = valid_labels\n",
        "\n",
        "    for i in range(len(train_data)):\n",
        "        if i % 200 == 0 and i > 1:\n",
        "            print('Train data: {}/{}'.format(i, len(train_data)))\n",
        "        img = train_data[i]\n",
        "        \n",
        "        # if the data order is Theano, axis orders should change\n",
        "        if data_order == 'th':\n",
        "            img = np.rollaxis(img, 2)\n",
        "        # save the image and calculate the mean so far\n",
        "        hdf5_file[\"train_img\"][i, :, :, :] = img\n",
        "        \n",
        "    for i in range(len(valid_data)):\n",
        "        # print how many images are saved every 1000 images\n",
        "        if i % 200 == 0 and i > 1:\n",
        "            print('Validation data: {}/{}'.format(i, len(valid_data)))\n",
        "        img = valid_data[i]\n",
        "        \n",
        "        # if the data order is Theano, axis orders should change\n",
        "        if data_order == 'th':\n",
        "            img = np.rollaxis(img, 2)\n",
        "        # save the image\n",
        "        hdf5_file[\"val_img\"][i, :, :, :] = img\n",
        "    "
      ],
      "execution_count": 0,
      "outputs": []
    },
    {
      "cell_type": "code",
      "metadata": {
        "id": "falaRZoV3s8y",
        "colab_type": "code",
        "colab": {}
      },
      "source": [
        "def import_from_hdf5(path):\n",
        "  with h5py.File(path, \"r\", driver='core') as hdf5_file:\n",
        "\n",
        "    train_data = None\n",
        "    batch_begin, batch_end = 0, 200\n",
        "    train_samples = len(hdf5_file['train_img'])\n",
        "    while True:\n",
        "      batch_end = min(batch_end, train_samples)\n",
        "      batch = hdf5_file['train_img'][batch_begin:batch_end, :, :, :]\n",
        "      if train_data is None:\n",
        "        train_data = batch\n",
        "      else:\n",
        "        train_data = np.concatenate([train_data, batch], axis=0)\n",
        "      print('Loaded', batch_end, 'samples of', train_samples, 'samples of train data')\n",
        "      if batch_end == train_samples:\n",
        "        break\n",
        "      else:\n",
        "        batch_begin = batch_end\n",
        "        batch_end += 200\n",
        "\n",
        "    train_labels = hdf5_file['train_labels'][:]\n",
        "    \n",
        "    valid_data = None\n",
        "    batch_begin, batch_end = 0, 200\n",
        "    val_samples = len(hdf5_file['val_img'])\n",
        "    while True:\n",
        "      batch_end = min(batch_end, val_samples)\n",
        "      batch = hdf5_file['val_img'][batch_begin:batch_end, :, :, :]\n",
        "      if valid_data is None:\n",
        "        valid_data = batch\n",
        "      else:\n",
        "        valid_data = np.concatenate([valid_data, batch], axis=0)\n",
        "      print('Loaded', batch_end, 'samples of', val_samples, 'samples of val data')\n",
        "      if batch_end == val_samples:\n",
        "        break\n",
        "      else:\n",
        "        batch_begin = batch_end\n",
        "        batch_end += 200\n",
        "    \n",
        "    valid_labels = hdf5_file['val_labels'][:]\n",
        "\n",
        "    train_data, valid_data = train_data[:, :, :, :], valid_data[:, :, :, :]\n",
        "    \n",
        "  return train_data, train_labels, valid_data, valid_labels"
      ],
      "execution_count": 0,
      "outputs": []
    },
    {
      "cell_type": "code",
      "metadata": {
        "id": "rRfy0lWT_nYe",
        "colab_type": "code",
        "colab": {
          "base_uri": "https://localhost:8080/",
          "height": 586
        },
        "outputId": "079fbf34-50fd-4717-a184-1e172d0c04c2"
      },
      "source": [
        "hand_train, hand_train_labels, hand_valid, hand_valid_labels = read_category_data('XR_HAND')"
      ],
      "execution_count": 196,
      "outputs": [
        {
          "output_type": "stream",
          "text": [
            "Starting reading...\n",
            "Read 199 images from 5543\n",
            "Read 399 images from 5543\n",
            "Read 599 images from 5543\n",
            "Read 799 images from 5543\n",
            "Read 999 images from 5543\n",
            "Read 1199 images from 5543\n",
            "Read 1399 images from 5543\n",
            "Read 1599 images from 5543\n",
            "Read 1799 images from 5543\n",
            "Read 1999 images from 5543\n",
            "Read 2199 images from 5543\n",
            "Read 2399 images from 5543\n",
            "Read 2599 images from 5543\n",
            "Read 2799 images from 5543\n",
            "Read 2999 images from 5543\n",
            "Read 3199 images from 5543\n",
            "Read 3399 images from 5543\n",
            "Read 3599 images from 5543\n",
            "Read 3799 images from 5543\n",
            "Read 3999 images from 5543\n",
            "Read 4199 images from 5543\n",
            "Read 4399 images from 5543\n",
            "Read 4599 images from 5543\n",
            "Read 4799 images from 5543\n",
            "Read 4999 images from 5543\n",
            "Read 5199 images from 5543\n",
            "Read 5399 images from 5543\n",
            "Starting reading...\n",
            "Read 199 images from 460\n",
            "Read 399 images from 460\n"
          ],
          "name": "stdout"
        }
      ]
    },
    {
      "cell_type": "code",
      "metadata": {
        "id": "9cRXtsb_KWew",
        "colab_type": "code",
        "colab": {
          "base_uri": "https://localhost:8080/",
          "height": 568
        },
        "outputId": "a398001a-3e65-48ff-b277-1420f48f07b9"
      },
      "source": [
        "print(hand_train.shape, hand_train_labels.shape, hand_valid.shape, hand_valid_labels.shape)\n",
        "\n",
        "export_to_hdf5(hand_train, hand_train_labels, hand_valid, hand_valid_labels, export_folder + 'hand')"
      ],
      "execution_count": 198,
      "outputs": [
        {
          "output_type": "stream",
          "text": [
            "(5543, 320, 320, 3) (5543,) (460, 320, 320, 3) (460,)\n",
            "Train data: 200/5543\n",
            "Train data: 400/5543\n",
            "Train data: 600/5543\n",
            "Train data: 800/5543\n",
            "Train data: 1000/5543\n",
            "Train data: 1200/5543\n",
            "Train data: 1400/5543\n",
            "Train data: 1600/5543\n",
            "Train data: 1800/5543\n",
            "Train data: 2000/5543\n",
            "Train data: 2200/5543\n",
            "Train data: 2400/5543\n",
            "Train data: 2600/5543\n",
            "Train data: 2800/5543\n",
            "Train data: 3000/5543\n",
            "Train data: 3200/5543\n",
            "Train data: 3400/5543\n",
            "Train data: 3600/5543\n",
            "Train data: 3800/5543\n",
            "Train data: 4000/5543\n",
            "Train data: 4200/5543\n",
            "Train data: 4400/5543\n",
            "Train data: 4600/5543\n",
            "Train data: 4800/5543\n",
            "Train data: 5000/5543\n",
            "Train data: 5200/5543\n",
            "Train data: 5400/5543\n",
            "Validation data: 200/460\n",
            "Validation data: 400/460\n"
          ],
          "name": "stdout"
        }
      ]
    },
    {
      "cell_type": "code",
      "metadata": {
        "id": "orSjw4deI4xo",
        "colab_type": "code",
        "colab": {}
      },
      "source": [
        "from keras.applications.densenet import DenseNet121\n",
        "from keras.layers import Dense\n",
        "from keras.models import Model\n",
        "from tensorflow.keras.losses import binary_crossentropy\n",
        "from keras.optimizers import adam\n",
        "\n",
        "label_smoothing = 0.0\n",
        "\n",
        "learning_rate = 0.0001\n",
        "beta1=0.9\n",
        "beta2=0.999\n",
        "\n",
        "def loss(y_true, y_pred): #Wrapping a tf loss to the keras interface with only 2 args\n",
        "  return binary_crossentropy(y_true, y_pred, label_smoothing=label_smoothing)\n",
        "\n",
        "optimizer = adam(lr=learning_rate, beta_1=beta1, beta_2=beta2)\n",
        "\n",
        "def get_compiled_model_instance():\n",
        "  base_model = DenseNet121(include_top=False, weights='imagenet', input_shape=None, pooling='avg')\n",
        "\n",
        "  x = base_model.output\n",
        "  predictions = Dense(n_classes, activation='sigmoid')(x)\n",
        "\n",
        "  model = Model(inputs=base_model.input, outputs=predictions)\n",
        "  model.compile(loss=loss, optimizer=optimizer, metrics=['acc'])\n",
        "\n",
        "  return model\n",
        "\n",
        "#get_compiled_model_instance()"
      ],
      "execution_count": 0,
      "outputs": []
    },
    {
      "cell_type": "code",
      "metadata": {
        "id": "Tr-NZDOHb0g0",
        "colab_type": "code",
        "colab": {}
      },
      "source": [
        "hand_model = get_compiled_model_instance()"
      ],
      "execution_count": 0,
      "outputs": []
    },
    {
      "cell_type": "code",
      "metadata": {
        "id": "xydpFCtbS4cp",
        "colab_type": "code",
        "cellView": "form",
        "colab": {}
      },
      "source": [
        "#@title\n",
        "!ls 'drive/My Drive/Work/ML/RA2/ra2'"
      ],
      "execution_count": 0,
      "outputs": []
    },
    {
      "cell_type": "code",
      "metadata": {
        "id": "0ukv4SDYTDYs",
        "colab_type": "code",
        "cellView": "form",
        "colab": {}
      },
      "source": [
        "#@title\n",
        "import pandas as pd \n",
        "\n",
        "data = pd.read_csv('drive/My Drive/Work/ML/RA2/ra2/Subset_training.csv')\n",
        "data.head()"
      ],
      "execution_count": 0,
      "outputs": []
    },
    {
      "cell_type": "code",
      "metadata": {
        "id": "RLZoZ1kgTRt3",
        "colab_type": "code",
        "cellView": "form",
        "colab": {}
      },
      "source": [
        "#@title\n",
        "import os\n",
        "import cv2\n",
        "\n",
        "ra2_path = 'drive/My Drive/Work/ML/RA2/ra2/'\n",
        "imgs = []\n",
        "\n",
        "files = sorted(os.listdir(ra2_path + 'Subset_Training'))\n",
        "print(files)\n",
        "\n",
        "for file in files:\n",
        "  imgs.append((file, cv2.imread(ra2_path + 'Subset_Training/' + file)))\n",
        "\n",
        "import matplotlib.pyplot as plt\n",
        "\n",
        "plt.figure(figsize=(8,8))\n",
        "plt.imshow(imgs[0][1], cmap = plt.cm.gray)"
      ],
      "execution_count": 0,
      "outputs": []
    },
    {
      "cell_type": "code",
      "metadata": {
        "id": "qt3540lKUS-5",
        "colab_type": "code",
        "cellView": "form",
        "colab": {}
      },
      "source": [
        "#@title\n",
        "import numpy as np\n",
        "\n",
        "img = imgs[0][1]\n",
        "\n",
        "#Sum of the cross-differences between all 3 pairs of channels to determine, can we use a grayscale image without substantional information loss\n",
        "diff_map = np.abs(img[:,:,0]-img[:, :, 1])+np.abs(img[:,:,0]-img[:, :, 2]) + np.abs(img[:,:,1]-img[:,:,2])\n",
        "\n",
        "print(np.mean(diff_map), np.var(diff_map))#All 3 channels are the same, we can reduce the input tensor size 3x by using the grayscale image"
      ],
      "execution_count": 0,
      "outputs": []
    }
  ]
}